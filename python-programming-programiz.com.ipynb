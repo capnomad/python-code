{
 "cells": [
  {
   "cell_type": "code",
   "execution_count": 24,
   "metadata": {},
   "outputs": [
    {
     "name": "stdout",
     "output_type": "stream",
     "text": [
      "66\n",
      "55\n",
      "['red', 'blue', 'green']\n"
     ]
    }
   ],
   "source": [
    "#multiline statements\n",
    "\n",
    "a = 1 + 2 + 3 + 4 + 5 + \\\n",
    "    5 + 6 + 6 + 7 + 8 + \\\n",
    "    9 + 10\n",
    "\n",
    "print(a)\n",
    "\n",
    "b = (1+2+3+4+\n",
    "     5+6+7+8+9\n",
    "     +0+1+2+3+4)\n",
    "print(b)\n",
    "\n",
    "colors = [\"red\",\"blue\",\n",
    "          \"green\"]\n",
    "print(colors)"
   ]
  },
  {
   "cell_type": "code",
   "execution_count": 25,
   "metadata": {},
   "outputs": [
    {
     "name": "stdout",
     "output_type": "stream",
     "text": [
      "1\n",
      "2\n",
      "3\n",
      "4\n",
      "5\n"
     ]
    }
   ],
   "source": [
    "for i in range(1,11):\n",
    "    print(i)\n",
    "    if i == 5:\n",
    "        break"
   ]
  },
  {
   "cell_type": "code",
   "execution_count": 26,
   "metadata": {},
   "outputs": [
    {
     "name": "stdout",
     "output_type": "stream",
     "text": [
      "* \n",
      "\n",
      "* * \n",
      "\n",
      "* * * \n",
      "\n",
      "* * * * \n",
      "\n",
      "* * * * * \n",
      "\n"
     ]
    }
   ],
   "source": [
    "for i in range(5):\n",
    "    for j in range(i+1):\n",
    "        print(\"*\",end=\" \")\n",
    "    print(\"\\n\")\n",
    "    "
   ]
  },
  {
   "cell_type": "code",
   "execution_count": 27,
   "metadata": {},
   "outputs": [
    {
     "name": "stdout",
     "output_type": "stream",
     "text": [
      "* * * * * \n",
      "\n",
      "* * * * \n",
      "\n",
      "* * * \n",
      "\n",
      "* * \n",
      "\n",
      "* \n",
      "\n"
     ]
    }
   ],
   "source": [
    "for i in range(5):\n",
    "    for j in range(5-i):\n",
    "        print(\"*\",end=' ')\n",
    "    print(\"\\n\")"
   ]
  },
  {
   "cell_type": "code",
   "execution_count": 30,
   "metadata": {},
   "outputs": [
    {
     "name": "stdout",
     "output_type": "stream",
     "text": [
      "Function to double the number\n"
     ]
    }
   ],
   "source": [
    "#Comment\n",
    "'''Multiline\n",
    "    Comment'''\n",
    "\n",
    "#Docstring\n",
    "\n",
    "def double(num):\n",
    "    '''Function to double the number'''\n",
    "    return num*2\n",
    "\n",
    "#docstring:\n",
    "print(double.__doc__)"
   ]
  },
  {
   "cell_type": "code",
   "execution_count": 37,
   "metadata": {},
   "outputs": [
    {
     "name": "stdout",
     "output_type": "stream",
     "text": [
      "10 20 30\n",
      "apple.com\n",
      "Same Same Same\n"
     ]
    }
   ],
   "source": [
    "#Python Variables\n",
    "\n",
    "x=10\n",
    "y=1.1\n",
    "a,b,c = 10,20,30\n",
    "print(a,b,c)\n",
    "\n",
    "website=\"apple.com\"\n",
    "website2=\"cloud.com\"\n",
    "print(website)\n",
    "\n",
    "x=y=z=\"Same\"\n",
    "print(x,y,z)"
   ]
  },
  {
   "cell_type": "code",
   "execution_count": 41,
   "metadata": {},
   "outputs": [
    {
     "ename": "ModuleNotFoundError",
     "evalue": "No module named 'constant'",
     "output_type": "error",
     "traceback": [
      "\u001b[1;31m---------------------------------------------------------------------------\u001b[0m",
      "\u001b[1;31mModuleNotFoundError\u001b[0m                       Traceback (most recent call last)",
      "\u001b[1;32m<ipython-input-41-5a7e605c972c>\u001b[0m in \u001b[0;36m<module>\u001b[1;34m\u001b[0m\n\u001b[0;32m     11\u001b[0m \u001b[1;33m\u001b[0m\u001b[0m\n\u001b[0;32m     12\u001b[0m \u001b[1;31m#main.py\u001b[0m\u001b[1;33m\u001b[0m\u001b[1;33m\u001b[0m\u001b[1;33m\u001b[0m\u001b[0m\n\u001b[1;32m---> 13\u001b[1;33m \u001b[1;32mimport\u001b[0m \u001b[0mconstant\u001b[0m\u001b[1;33m\u001b[0m\u001b[1;33m\u001b[0m\u001b[0m\n\u001b[0m\u001b[0;32m     14\u001b[0m \u001b[1;33m\u001b[0m\u001b[0m\n\u001b[0;32m     15\u001b[0m \u001b[0mprint\u001b[0m\u001b[1;33m(\u001b[0m\u001b[0mconstant\u001b[0m\u001b[1;33m.\u001b[0m\u001b[0mPI\u001b[0m\u001b[1;33m)\u001b[0m\u001b[1;33m\u001b[0m\u001b[1;33m\u001b[0m\u001b[0m\n",
      "\u001b[1;31mModuleNotFoundError\u001b[0m: No module named 'constant'"
     ]
    }
   ],
   "source": [
    "#Constants\n",
    "'''In Python, constants are usually declared and assigned on a module. \n",
    "Here, the module means a new file containing variables, functions etc \n",
    "which is imported to main file. Inside the module, constants are written\n",
    "in all capital letters and underscores separating the words.\n",
    "\n",
    "sample code below:\n",
    "'''\n",
    "\n",
    "#constant.py\n",
    "PI = 3.14\n",
    "GRAVITY = 9.8\n",
    "\n",
    "#main.py\n",
    "import constant\n",
    "print(constant.PI)\n",
    "print(constant.GRAVITY)\n",
    "\n",
    "\n"
   ]
  },
  {
   "cell_type": "code",
   "execution_count": 42,
   "metadata": {},
   "outputs": [
    {
     "data": {
      "text/plain": [
       "'\\nCONSTANT\\nvar1\\nvariableNew\\nlong_variable_name\\n\\nsnake_case\\ncamelCase\\nMACRO_CASE\\nCapWords\\n'"
      ]
     },
     "execution_count": 42,
     "metadata": {},
     "output_type": "execute_result"
    }
   ],
   "source": [
    "#naming conventions\n",
    "'''\n",
    "CONSTANT\n",
    "var1\n",
    "variableNew\n",
    "long_variable_name\n",
    "\n",
    "snake_case\n",
    "camelCase\n",
    "MACRO_CASE\n",
    "CapWords\n",
    "'''"
   ]
  },
  {
   "cell_type": "code",
   "execution_count": 69,
   "metadata": {},
   "outputs": [
    {
     "name": "stdout",
     "output_type": "stream",
     "text": [
      "1.1 <class 'float'>\n",
      "\n",
      "\n",
      "10 <class 'int'>\n",
      "100 <class 'int'>\n",
      "520 <class 'int'>\n",
      "4112 <class 'int'>\n",
      "\n",
      "\n",
      "(4+3j) 3.0 4.0\n",
      "(4+3j) <class 'complex'>\n"
     ]
    }
   ],
   "source": [
    "#Literals(Data types)\n",
    "#Numeric: Int Float Double Exponential Binary Decimal Octa Hexa Complex\n",
    "#String: Strings\n",
    "#Boolean: True False\n",
    "#Special: NONE\n",
    "\n",
    "\n",
    "#Numeric\n",
    "fl1 = 1.1\n",
    "print(fl1, type(fl1))\n",
    "\n",
    "print(\"\\n\")\n",
    "\n",
    "a = 0b1010\n",
    "b = 100\n",
    "c = 0o1010\n",
    "d = 0x1010\n",
    "\n",
    "print(a,type(a))\n",
    "print(b,type(b))\n",
    "print(c,type(c))\n",
    "print(d,type(d))\n",
    "print(\"\\n\")\n",
    "\n",
    "x = 4+3j\n",
    "print(x,x.imag, x.real)\n",
    "print(x, type(x))"
   ]
  },
  {
   "cell_type": "code",
   "execution_count": 74,
   "metadata": {},
   "outputs": [
    {
     "name": "stdout",
     "output_type": "stream",
     "text": [
      "hi my name is jamal\n",
      "C\n",
      "hi my name is \n",
      "jamal khan\n",
      "\n",
      "Ünicöde\n"
     ]
    }
   ],
   "source": [
    "#String Literals\n",
    "\n",
    "str1 = \"hi my name is jamal\"\n",
    "char1 = 'C'\n",
    "multiline='''hi my name is \n",
    "jamal khan'''\n",
    "\n",
    "unicode = u\"\\u00dcnic\\u00f6de\"\n",
    "\n",
    "print(str1)\n",
    "print(char1)\n",
    "print(multiline)\n",
    "print()\n",
    "print(unicode)"
   ]
  },
  {
   "cell_type": "code",
   "execution_count": 80,
   "metadata": {},
   "outputs": [
    {
     "name": "stdout",
     "output_type": "stream",
     "text": [
      "True\n",
      "False\n",
      "5\n",
      "4\n"
     ]
    }
   ],
   "source": [
    "#Boolean\n",
    "\n",
    "x = (1 == True)  # will return true because True = 1\n",
    "y = (1 == False) # will return false because False = 0 \n",
    "\n",
    "print(x)\n",
    "print(y)\n",
    "\n",
    "a = True + 4\n",
    "b = False + 4\n",
    "\n",
    "print(a)\n",
    "print(b)"
   ]
  },
  {
   "cell_type": "code",
   "execution_count": 83,
   "metadata": {},
   "outputs": [
    {
     "name": "stdout",
     "output_type": "stream",
     "text": [
      "Available\n",
      "None\n"
     ]
    }
   ],
   "source": [
    "#Special Literals: None\n",
    "\n",
    "drink=\"Available\"\n",
    "food=None\n",
    "\n",
    "def menu(x):\n",
    "    if x == drink:\n",
    "        print(drink)\n",
    "    else:\n",
    "        print(food)\n",
    "        \n",
    "menu(drink)\n",
    "menu(food)"
   ]
  },
  {
   "cell_type": "code",
   "execution_count": 88,
   "metadata": {},
   "outputs": [
    {
     "name": "stdout",
     "output_type": "stream",
     "text": [
      "['apple', 'banana', 'orange', 'grapes']\n",
      "(1, 2, 3, 4, 5, 6)\n",
      "{'a', 'i', 'u', 'o', 'e'}\n",
      "{'a': 'apple', 'b': 'ball', 'c': 'cat'}\n",
      "\n",
      "\n",
      "<class 'list'>\n",
      "<class 'tuple'>\n",
      "<class 'set'>\n",
      "<class 'dict'>\n"
     ]
    }
   ],
   "source": [
    "#Collections:\n",
    "'''\n",
    "list []                 - just like array, but separate from array\n",
    "tuple ()                - read only. cannot be changed once created \n",
    "set {}                  - unique, duplicates are removed/not added \n",
    "dictionary {:}          - key value pairs\n",
    "'''\n",
    "\n",
    "\n",
    "list_fruits = [\"apple\", \"banana\", \"orange\", \"grapes\"]\n",
    "tuple_nums = (1,2,3,4,5,6)\n",
    "set_vowels = {'e','a','i','o','i','u'}\n",
    "dict_abc = {'a':\"apple\", 'b': \"ball\", 'c':\"cat\"}\n",
    "\n",
    "print(list_fruits)\n",
    "print(tuple_nums)\n",
    "print(set_vowels)\n",
    "print(dict_abc)\n",
    "print(\"\\n\")\n",
    "\n",
    "print(type(list_fruits))\n",
    "print(type(tuple_nums))\n",
    "print(type(set_vowels))\n",
    "print(type(dict_abc))"
   ]
  },
  {
   "cell_type": "code",
   "execution_count": 94,
   "metadata": {},
   "outputs": [
    {
     "name": "stdout",
     "output_type": "stream",
     "text": [
      "5 is of type <class 'int'>\n",
      "2.0 is of type <class 'float'>\n",
      "(1+2j) is a complex number? True\n"
     ]
    }
   ],
   "source": [
    "#Data types in Python\n",
    "a = 5\n",
    "print(a, \"is of type\", type(a))\n",
    "\n",
    "a = 2.0\n",
    "print(a, \"is of type\", type(a))\n",
    "\n",
    "a = 1+2j\n",
    "print(a,\"is a complex number?\",isinstance(1+2j,complex))\n",
    "#isinstance: Checks if a Object is an Instance of Class\n",
    "\n",
    "\n"
   ]
  },
  {
   "cell_type": "code",
   "execution_count": 101,
   "metadata": {},
   "outputs": [
    {
     "name": "stdout",
     "output_type": "stream",
     "text": [
      "3.141592653589793\n",
      "<class 'module'>\n",
      "<class 'float'>\n",
      "<class 'float'>\n"
     ]
    }
   ],
   "source": [
    "PI = math.pi\n",
    "print(PI)\n",
    "print(type(math))\n",
    "print(type(math.pi))\n",
    "print(type(PI))"
   ]
  },
  {
   "cell_type": "code",
   "execution_count": 111,
   "metadata": {},
   "outputs": [
    {
     "name": "stdout",
     "output_type": "stream",
     "text": [
      "[1, 2, 3, 4, 5, 6, 7]\n",
      "[1, 2, 3, 4, 9, 6, 7]\n",
      "[1, 2, 'x', 4, 9, 6, 7]\n"
     ]
    }
   ],
   "source": [
    "#########    Lists   ###############\n",
    "#lists are mutable\n",
    "#\n",
    "\n",
    "\n",
    "a = [1,2,3,4,5,6,7]\n",
    "print(a)\n",
    "\n",
    "a[4]= 9\n",
    "print(a)\n",
    "\n",
    "a[2] = 'x'\n",
    "print(a)\n",
    "\n",
    "\n",
    "\n"
   ]
  },
  {
   "cell_type": "code",
   "execution_count": 138,
   "metadata": {},
   "outputs": [
    {
     "name": "stdout",
     "output_type": "stream",
     "text": [
      "(1, 2, 3, 4, 5, 6, 7)\n",
      "(4, 5)\n"
     ]
    },
    {
     "ename": "TypeError",
     "evalue": "'tuple' object does not support item assignment",
     "output_type": "error",
     "traceback": [
      "\u001b[1;31m---------------------------------------------------------------------------\u001b[0m",
      "\u001b[1;31mTypeError\u001b[0m                                 Traceback (most recent call last)",
      "\u001b[1;32m<ipython-input-138-f0b09023b004>\u001b[0m in \u001b[0;36m<module>\u001b[1;34m\u001b[0m\n\u001b[0;32m      7\u001b[0m \u001b[0mprint\u001b[0m\u001b[1;33m(\u001b[0m\u001b[0ma\u001b[0m\u001b[1;33m[\u001b[0m\u001b[1;36m3\u001b[0m\u001b[1;33m:\u001b[0m\u001b[1;36m5\u001b[0m\u001b[1;33m]\u001b[0m\u001b[1;33m)\u001b[0m\u001b[1;33m\u001b[0m\u001b[1;33m\u001b[0m\u001b[0m\n\u001b[0;32m      8\u001b[0m \u001b[1;33m\u001b[0m\u001b[0m\n\u001b[1;32m----> 9\u001b[1;33m \u001b[0ma\u001b[0m\u001b[1;33m[\u001b[0m\u001b[1;36m4\u001b[0m\u001b[1;33m]\u001b[0m\u001b[1;33m=\u001b[0m \u001b[1;36m9\u001b[0m\u001b[1;33m\u001b[0m\u001b[1;33m\u001b[0m\u001b[0m\n\u001b[0m\u001b[0;32m     10\u001b[0m \u001b[1;31m#TypeError: 'tuple' object does not support item assignment\u001b[0m\u001b[1;33m\u001b[0m\u001b[1;33m\u001b[0m\u001b[1;33m\u001b[0m\u001b[0m\n\u001b[0;32m     11\u001b[0m \u001b[0mprint\u001b[0m\u001b[1;33m(\u001b[0m\u001b[0ma\u001b[0m\u001b[1;33m)\u001b[0m\u001b[1;33m\u001b[0m\u001b[1;33m\u001b[0m\u001b[0m\n",
      "\u001b[1;31mTypeError\u001b[0m: 'tuple' object does not support item assignment"
     ]
    }
   ],
   "source": [
    "#########    tuples   ###############\n",
    "#tuples are immutable\n",
    "#tuples alow indexing\n",
    "a = (1,2,3,4,5,6,7)\n",
    "print(a)\n",
    "\n",
    "print(a[3:5])\n",
    "\n",
    "a[4]= 9\n",
    "#TypeError: 'tuple' object does not support item assignment\n",
    "print(a)\n",
    "\n",
    "#a[2] = 'x'\n",
    "print(a)\n",
    "print(a[4])\n"
   ]
  },
  {
   "cell_type": "code",
   "execution_count": 125,
   "metadata": {},
   "outputs": [
    {
     "name": "stdout",
     "output_type": "stream",
     "text": [
      "Hello World\n"
     ]
    },
    {
     "ename": "TypeError",
     "evalue": "'str' object does not support item assignment",
     "output_type": "error",
     "traceback": [
      "\u001b[1;31m---------------------------------------------------------------------------\u001b[0m",
      "\u001b[1;31mTypeError\u001b[0m                                 Traceback (most recent call last)",
      "\u001b[1;32m<ipython-input-125-464f27e5d371>\u001b[0m in \u001b[0;36m<module>\u001b[1;34m\u001b[0m\n\u001b[0;32m      6\u001b[0m \u001b[1;33m\u001b[0m\u001b[0m\n\u001b[0;32m      7\u001b[0m \u001b[1;31m#s[4] = '0'\u001b[0m\u001b[1;33m\u001b[0m\u001b[1;33m\u001b[0m\u001b[1;33m\u001b[0m\u001b[0m\n\u001b[1;32m----> 8\u001b[1;33m \u001b[0ms\u001b[0m\u001b[1;33m[\u001b[0m\u001b[1;36m6\u001b[0m\u001b[1;33m:\u001b[0m\u001b[1;33m]\u001b[0m \u001b[1;33m=\u001b[0m \u001b[1;34m\"jamal\"\u001b[0m\u001b[1;33m\u001b[0m\u001b[1;33m\u001b[0m\u001b[0m\n\u001b[0m\u001b[0;32m      9\u001b[0m \u001b[0mprint\u001b[0m\u001b[1;33m(\u001b[0m\u001b[0ms\u001b[0m\u001b[1;33m)\u001b[0m\u001b[1;33m\u001b[0m\u001b[1;33m\u001b[0m\u001b[0m\n\u001b[0;32m     10\u001b[0m \u001b[1;33m\u001b[0m\u001b[0m\n",
      "\u001b[1;31mTypeError\u001b[0m: 'str' object does not support item assignment"
     ]
    }
   ],
   "source": [
    "#########    Strings   ###############\n",
    "#strings are immutable\n",
    "\n",
    "s = \"Hello World\"\n",
    "print(s)\n",
    "\n",
    "#s[4] = '0'\n",
    "s[6:] = \"jamal\"\n",
    "#TypeError: 'str' object does not support item assignment\n",
    "print(s)\n",
    "\n"
   ]
  },
  {
   "cell_type": "code",
   "execution_count": 142,
   "metadata": {},
   "outputs": [
    {
     "name": "stdout",
     "output_type": "stream",
     "text": [
      "{1, 2, 3, 4, 5, 6, 7, 8, 9}\n"
     ]
    },
    {
     "ename": "TypeError",
     "evalue": "'set' object does not support indexing",
     "output_type": "error",
     "traceback": [
      "\u001b[1;31m---------------------------------------------------------------------------\u001b[0m",
      "\u001b[1;31mTypeError\u001b[0m                                 Traceback (most recent call last)",
      "\u001b[1;32m<ipython-input-142-f5681b070ed0>\u001b[0m in \u001b[0;36m<module>\u001b[1;34m\u001b[0m\n\u001b[0;32m      5\u001b[0m \u001b[0mset1\u001b[0m \u001b[1;33m=\u001b[0m \u001b[1;33m{\u001b[0m\u001b[1;36m1\u001b[0m\u001b[1;33m,\u001b[0m\u001b[1;36m9\u001b[0m\u001b[1;33m,\u001b[0m\u001b[1;36m3\u001b[0m\u001b[1;33m,\u001b[0m\u001b[1;36m4\u001b[0m\u001b[1;33m,\u001b[0m\u001b[1;36m7\u001b[0m\u001b[1;33m,\u001b[0m\u001b[1;36m9\u001b[0m\u001b[1;33m,\u001b[0m\u001b[1;36m5\u001b[0m\u001b[1;33m,\u001b[0m\u001b[1;36m7\u001b[0m\u001b[1;33m,\u001b[0m\u001b[1;36m6\u001b[0m\u001b[1;33m,\u001b[0m\u001b[1;36m4\u001b[0m\u001b[1;33m,\u001b[0m\u001b[1;36m6\u001b[0m\u001b[1;33m,\u001b[0m\u001b[1;36m7\u001b[0m\u001b[1;33m,\u001b[0m\u001b[1;36m8\u001b[0m\u001b[1;33m,\u001b[0m\u001b[1;36m9\u001b[0m\u001b[1;33m,\u001b[0m\u001b[1;36m2\u001b[0m\u001b[1;33m,\u001b[0m\u001b[1;36m4\u001b[0m\u001b[1;33m,\u001b[0m\u001b[1;36m6\u001b[0m\u001b[1;33m}\u001b[0m\u001b[1;33m\u001b[0m\u001b[1;33m\u001b[0m\u001b[0m\n\u001b[0;32m      6\u001b[0m \u001b[0mprint\u001b[0m\u001b[1;33m(\u001b[0m\u001b[0mset1\u001b[0m\u001b[1;33m)\u001b[0m\u001b[1;33m\u001b[0m\u001b[1;33m\u001b[0m\u001b[0m\n\u001b[1;32m----> 7\u001b[1;33m \u001b[0mprint\u001b[0m\u001b[1;33m(\u001b[0m\u001b[0mset1\u001b[0m\u001b[1;33m[\u001b[0m\u001b[1;36m4\u001b[0m\u001b[1;33m]\u001b[0m\u001b[1;33m)\u001b[0m\u001b[1;33m\u001b[0m\u001b[1;33m\u001b[0m\u001b[0m\n\u001b[0m\u001b[0;32m      8\u001b[0m \u001b[1;31m#TypeError: 'set' object does not support indexing\u001b[0m\u001b[1;33m\u001b[0m\u001b[1;33m\u001b[0m\u001b[1;33m\u001b[0m\u001b[0m\n",
      "\u001b[1;31mTypeError\u001b[0m: 'set' object does not support indexing"
     ]
    }
   ],
   "source": [
    "#########    Set   ###############\n",
    "#set are sorted, unique collection. sets doesnot support indexing\n",
    "#set remove duplicates\n",
    "\n",
    "\n",
    "set1 = {1,9,3,4,7,9,5,7,6,4,6,7,8,9,2,4,6}\n",
    "print(set1)\n",
    "print(set1[4])\n",
    "#TypeError: 'set' object does not support indexing"
   ]
  },
  {
   "cell_type": "code",
   "execution_count": 150,
   "metadata": {},
   "outputs": [
    {
     "name": "stdout",
     "output_type": "stream",
     "text": [
      "{1: 'z', 2: 'b'}\n",
      "<class 'dict'>\n",
      "b\n",
      "z\n"
     ]
    }
   ],
   "source": [
    "#########    Dictionary   ###############\n",
    "\n",
    "d = {1:\"a\",2:\"b\",x:\"z\"}\n",
    "print(d)\n",
    "print(type(d))\n",
    "\n",
    "print(d[2])\n",
    "print(d[x])\n",
    "\n",
    "\n",
    "\n",
    "\n"
   ]
  },
  {
   "cell_type": "code",
   "execution_count": 177,
   "metadata": {},
   "outputs": [
    {
     "name": "stdout",
     "output_type": "stream",
     "text": [
      "5.0\n",
      "10\n",
      "25.0\n",
      "{1, 2, 3, 4, 5, 6, 7, 35, 74, 18, 346, 63}\n",
      "(1, 2, 3, 4, 5, 6, 7, 1, 1, 1, 1, 1, 1, 18, 4, 5, 63, 346, 74, 35)\n",
      "['h', 'e', 'l', 'l', 'o']\n",
      "{'h', 'o', 'l', 'e'}\n",
      "('h', 'e', 'l', 'l', 'o')\n",
      "{1: 2, 3: 4, 5: 6}\n",
      "{1: 2, 3: 4, 5: 6}\n",
      "{(1, 2), (3, 4), (5, 6)}\n",
      "((1, 2), (3, 4), (5, 6))\n",
      "{1: 2, 3: 4}\n",
      "{(1, 2), (3, 4)}\n",
      "((1, 2), (3, 4), (1, 2))\n"
     ]
    }
   ],
   "source": [
    "######### data type conversion ##########\n",
    "print(float(5))\n",
    "print(int(10.6))\n",
    "\n",
    "#conversion to and from string:\n",
    "\n",
    "print(float('25'))\n",
    "#print(str(22))\n",
    "\n",
    "#print(int('jj'))\n",
    "#ValueError: invalid literal for int() with base 10: 'jj'\n",
    "\n",
    "lst = [1,2,3,4,5,6,7,1,1,1,1,1,1,18,4,5,63,346,74,35]\n",
    "\n",
    "print(set(lst))\n",
    "print(tuple(lst))\n",
    "\n",
    "\n",
    "\n",
    "str1 = 'hello'\n",
    "print(list(str1))\n",
    "print(set(str1))\n",
    "print(tuple(str1))\n",
    "#print(dict(str1)) #error as key pair is required\n",
    "\n",
    "\n",
    "\n",
    "l2 = [[1,2],[3,4],[5,6]]\n",
    "l3 = [(1,2),(3,4),(5,6)]\n",
    "l4 = [(1,2),(3,4),(1,2)]\n",
    "\n",
    "print(dict(l2))\n",
    "print(dict(l3))\n",
    "print(set(l3))\n",
    "print(tuple(l3))\n",
    "print(dict(l4))\n",
    "print(set(l4))\n",
    "print(tuple(l4))\n",
    "\n"
   ]
  },
  {
   "cell_type": "code",
   "execution_count": 180,
   "metadata": {},
   "outputs": [
    {
     "name": "stdout",
     "output_type": "stream",
     "text": [
      "11\n",
      "11\n"
     ]
    }
   ],
   "source": [
    "################### Type Conversion #######################\n",
    "''' 1. Implicit Type Conversion - python does that automatically\n",
    "    2. Explicit type conversion - user uses function to convert type of 1 variable to another\n",
    "    \n",
    "Type Conversion is the conversion of object from one data type to another data type.\n",
    "Implicit Type Conversion is automatically performed by the Python interpreter.\n",
    "Python avoids the loss of data in Implicit Type Conversion.\n",
    "Explicit Type Conversion is also called Type Casting, the data types of object are converted using predefined function by user.\n",
    "In Type Casting loss of data may occur as we enforce the object to specific data type.\n",
    "'''\n",
    "\n",
    "\n",
    "a= 5\n",
    "b = '6'\n",
    "\n",
    "'''\n",
    "print(a + b)\n",
    "TypeError: unsupported operand type(s) for +: 'int' and 'str'\n",
    "'''\n",
    "\n",
    "print(a + int(b))\n",
    "\n",
    "# or\n",
    "c = int(b)\n",
    "print(a + c)\n"
   ]
  },
  {
   "cell_type": "code",
   "execution_count": 198,
   "metadata": {},
   "outputs": [
    {
     "name": "stdout",
     "output_type": "stream",
     "text": [
      "1 2 3 4\n",
      "1*2*3*4\n",
      "1_2_3_4\n",
      "1_2_3_4##\n",
      "\n",
      "\n",
      "\n",
      "The value of x is 5 and y is 10\n",
      "Fruits are apple, banana, and carrot\n",
      "hello 1\n",
      "hello 2\n",
      "hello 3\n",
      "hello 4\n",
      "hello 5\n",
      "The value of x is 12.24\n",
      "The value of x is 12.2355\n",
      "The value of x is 12.235468\n",
      "The value of x is 12.24\n"
     ]
    }
   ],
   "source": [
    "################ Python Input and Outputs\n",
    "\n",
    "\n",
    "print(1,2,3,4)\n",
    "print(1,2,3,4,sep='*')\n",
    "print(1,2,3,4,sep='_',end='\\n')\n",
    "print(1,2,3,4,sep='_',end='##')\n",
    "print(\"\\n\\n\\n\")\n",
    "\n",
    "\n",
    "############### Output formatting\n",
    "# str.format()\n",
    "\n",
    "#placeholders {}\n",
    "x = 5; y = 10\n",
    "print(\"The value of x is {} and y is {}\".format(x,y))\n",
    "\n",
    "\n",
    "\n",
    "#Arguements x,y,z\n",
    "print(\"Fruits are {x}, {y}, and {z}\".format(x = 'apple', y='banana',z='carrot'))\n",
    "\n",
    "\n",
    "t1 = (1,2,3,4,5)\n",
    "\n",
    "for x in range(0,len(t1)):\n",
    "    print(\"hello {}\".format(t1[x]))\n",
    "\n",
    "    \n",
    "x = 12.235468\n",
    "\n",
    "print('The value of x is %3.2f' %x)\n",
    "print('The value of x is %3.4f' %x)\n",
    "print('The value of x is %3.6f' %x)\n",
    "print('The value of x is %3.2f' %x)\n",
    "\n"
   ]
  },
  {
   "cell_type": "code",
   "execution_count": 204,
   "metadata": {},
   "outputs": [
    {
     "name": "stdout",
     "output_type": "stream",
     "text": [
      "Enter a number:2\n",
      "<class 'str'>\n",
      "<class 'int'>\n",
      "Enter a number3\n",
      "<class 'int'>\n"
     ]
    }
   ],
   "source": [
    "############### Input \n",
    "\n",
    "num = input('Enter a number:')\n",
    "print(type(num))\n",
    "#Note: Initially the type of input is string. So it needs to be converted to correct format.\n",
    "\n",
    "\n",
    "num = int(num)\n",
    "print(type(num))\n",
    "\n",
    "\n",
    "#or\n",
    "\n",
    "num1 = int(input('Enter a number'))\n",
    "print(type(num1))\n",
    "\n"
   ]
  },
  {
   "cell_type": "code",
   "execution_count": 206,
   "metadata": {},
   "outputs": [
    {
     "data": {
      "text/plain": [
       "5"
      ]
     },
     "execution_count": 206,
     "metadata": {},
     "output_type": "execute_result"
    }
   ],
   "source": [
    "#EVAL function:  used to evaluate input string\n",
    "\n",
    "\n",
    "#int('2+3')\n",
    "eval('2+3')"
   ]
  },
  {
   "cell_type": "markdown",
   "metadata": {},
   "source": [
    "# Python Imports"
   ]
  },
  {
   "cell_type": "code",
   "execution_count": 214,
   "metadata": {},
   "outputs": [
    {
     "name": "stdout",
     "output_type": "stream",
     "text": [
      "3.141592653589793\n"
     ]
    }
   ],
   "source": [
    "import math\n",
    "print(math.pi)"
   ]
  },
  {
   "cell_type": "code",
   "execution_count": 215,
   "metadata": {},
   "outputs": [
    {
     "name": "stdout",
     "output_type": "stream",
     "text": [
      "3.141592653589793\n"
     ]
    }
   ],
   "source": [
    "#Python from...import statement\n",
    "\n",
    "from math import pi\n",
    "print(pi)"
   ]
  },
  {
   "cell_type": "code",
   "execution_count": 218,
   "metadata": {},
   "outputs": [
    {
     "data": {
      "text/plain": [
       "3.141592653589793"
      ]
     },
     "execution_count": 218,
     "metadata": {},
     "output_type": "execute_result"
    }
   ],
   "source": [
    "#Import with renaming\n",
    "\n",
    "import math as m\n",
    "m.pi"
   ]
  },
  {
   "cell_type": "code",
   "execution_count": 221,
   "metadata": {},
   "outputs": [
    {
     "name": "stdout",
     "output_type": "stream",
     "text": [
      "3.141592653589793\n"
     ]
    }
   ],
   "source": [
    "#Import all names\n",
    "'''Importing everything with the asterisk (*) symbol is not a good programming practice. \n",
    "This can lead to duplicate definitions for an identifier. \n",
    "It also hampers the readability of our code.'''\n",
    "\n",
    "from math import *\n",
    "\n",
    "print(math.pi)\n"
   ]
  },
  {
   "cell_type": "code",
   "execution_count": 222,
   "metadata": {},
   "outputs": [
    {
     "data": {
      "text/plain": [
       "['C:\\\\Users\\\\mohammak\\\\Desktop\\\\code\\\\python\\\\jupyter',\n",
       " 'C:\\\\Users\\\\mohammak\\\\AppData\\\\Local\\\\Continuum\\\\anaconda3\\\\python37.zip',\n",
       " 'C:\\\\Users\\\\mohammak\\\\AppData\\\\Local\\\\Continuum\\\\anaconda3\\\\DLLs',\n",
       " 'C:\\\\Users\\\\mohammak\\\\AppData\\\\Local\\\\Continuum\\\\anaconda3\\\\lib',\n",
       " 'C:\\\\Users\\\\mohammak\\\\AppData\\\\Local\\\\Continuum\\\\anaconda3',\n",
       " '',\n",
       " 'C:\\\\Users\\\\mohammak\\\\AppData\\\\Local\\\\Continuum\\\\anaconda3\\\\lib\\\\site-packages',\n",
       " 'C:\\\\Users\\\\mohammak\\\\AppData\\\\Local\\\\Continuum\\\\anaconda3\\\\lib\\\\site-packages\\\\win32',\n",
       " 'C:\\\\Users\\\\mohammak\\\\AppData\\\\Local\\\\Continuum\\\\anaconda3\\\\lib\\\\site-packages\\\\win32\\\\lib',\n",
       " 'C:\\\\Users\\\\mohammak\\\\AppData\\\\Local\\\\Continuum\\\\anaconda3\\\\lib\\\\site-packages\\\\Pythonwin',\n",
       " 'C:\\\\Users\\\\mohammak\\\\AppData\\\\Local\\\\Continuum\\\\anaconda3\\\\lib\\\\site-packages\\\\IPython\\\\extensions',\n",
       " 'C:\\\\Users\\\\mohammak\\\\.ipython']"
      ]
     },
     "execution_count": 222,
     "metadata": {},
     "output_type": "execute_result"
    }
   ],
   "source": [
    "#Python Module Search Path\n",
    "\n",
    "import sys\n",
    "sys.path\n"
   ]
  },
  {
   "cell_type": "code",
   "execution_count": 271,
   "metadata": {},
   "outputs": [
    {
     "name": "stdout",
     "output_type": "stream",
     "text": [
      "3.141592653589793\n",
      "0.5253219888177297\n",
      "0.8509035245341184\n",
      "1.6197751905438615\n"
     ]
    }
   ],
   "source": [
    "#Reloading a module\n",
    "\n",
    "import imp\n",
    "import math\n",
    "\n",
    "\n",
    "print(math.pi)\n",
    "imp.reload(math)\n",
    "\n",
    "\n",
    "dir(math)                    #built in function to find out names that are defined inside a module\n",
    "print(cos(45))\n",
    "print(sin(45))\n",
    "print(tan(45))\n"
   ]
  },
  {
   "cell_type": "code",
   "execution_count": 289,
   "metadata": {},
   "outputs": [
    {
     "name": "stdout",
     "output_type": "stream",
     "text": [
      "Arithmetic Operators\n",
      "19\n",
      "11\n",
      "60\n",
      "3.75\n",
      "50625\n",
      "3\n",
      "3\n",
      "\n",
      "Comparison Operators\n",
      "x > y  is False\n",
      "x < y  is True\n",
      "x == y is False\n",
      "x != y is True\n",
      "x >= y is False\n",
      "x <= y is True\n",
      "\n",
      "Logical Operators\n",
      "x: True\n",
      "y: False\n",
      "True\n",
      "False\n",
      "False\n",
      "True\n",
      "\n",
      "Bitwise Operators\n",
      "0\n",
      "14\n",
      "-11\n",
      "14\n",
      "2\n",
      "40\n",
      "1\n",
      "16\n",
      "\n",
      "Identity operators\n",
      "True\n",
      "False\n",
      "x in y False\n",
      "y in x True\n",
      "x not in y True\n",
      "y not in x False\n"
     ]
    }
   ],
   "source": [
    "#Python Operators:\n",
    "\n",
    "'''\n",
    "Arithmetic\n",
    "+\tAdd two operands or unary plus\tx + y\n",
    "-\tSubtract right operand from the left or unary minus\tx - y\n",
    "*\tMultiply two operands\tx * y\n",
    "/\tDivide left operand by the right one (always results into float)\tx / y\n",
    "%\tModulus - remainder of the division of left operand by the right\tx % y (remainder of x/y)\n",
    "//\tFloor division - division that results into whole number adjusted to the left in the number line\tx // y\n",
    "**\tExponent - left operand raised to the power of right\tx**y (x to the power y)\n",
    "'''\n",
    "\n",
    "x = 15\n",
    "y = 4\n",
    "print(\"Arithmetic Operators\")\n",
    "print(x + y)\n",
    "print(x - y)\n",
    "print(x * y)\n",
    "print(x / y)\n",
    "print(x ** y)\n",
    "print(x % y)\n",
    "print(x // y)\n",
    "\n",
    "print(\"\\nComparison Operators\")\n",
    "\n",
    "\n",
    "'''\n",
    "Comparison Operators:\n",
    ">\tGreater that - True if left operand is greater than the right\tx > y\n",
    "<\tLess that - True if left operand is less than the right\tx < y\n",
    "==\tEqual to - True if both operands are equal\tx == y\n",
    "!=\tNot equal to - True if operands are not equal\tx != y\n",
    ">=\tGreater than or equal to - True if left operand is greater than or equal to the right\tx >= y\n",
    "<=\tLess than or equal to - True if left operand is less than or equal to the right\tx <= y\n",
    "'''\n",
    "x = 10\n",
    "y = 12\n",
    "\n",
    "print('x > y  is',x>y)\n",
    "print('x < y  is',x<y)\n",
    "print('x == y is',x==y)\n",
    "print('x != y is',x!=y)\n",
    "print('x >= y is',x>=y)\n",
    "print('x <= y is',x<=y)\n",
    "\n",
    "\n",
    "\n",
    "'''\n",
    "Logical operators\n",
    "and\tTrue if both the operands are true\tx and y\n",
    "or\tTrue if either of the operands is true\tx or y\n",
    "not\tTrue if operand is false (complements the operand)\tnot x\n",
    "'''\n",
    "print(\"\\nLogical Operators\")\n",
    "\n",
    "x=True\n",
    "y=False\n",
    "print(\"x:\",x)\n",
    "print(\"y:\",y)\n",
    "print(x or y)\n",
    "print(x and y)\n",
    "print(not x)\n",
    "print(not y)\n",
    "\n",
    "\n",
    "\n",
    "'''\n",
    "Bitwise Operators\n",
    "x=10\n",
    "y=4\n",
    "&\tBitwise AND\tx& y = 0 (0000 0000)\n",
    "|\tBitwise OR\tx | y = 14 (0000 1110)\n",
    "~\tBitwise NOT\t~x = -11 (1111 0101)\n",
    "^\tBitwise XOR\tx ^ y = 14 (0000 1110)\n",
    ">>\tBitwise right shift\tx>> 2 = 2 (0000 0010)\n",
    "<<\tBitwise left shift\tx<< 2 = 40 (0010 1000)\n",
    "\n",
    "'''\n",
    "\n",
    "print(\"\\nBitwise Operators\")\n",
    "\n",
    "x = 10\n",
    "y = 4\n",
    "print(x&y)\n",
    "print(x|y)\n",
    "print(~x)\n",
    "print(x^y)\n",
    "print(x>>2)\n",
    "print(x<<2)\n",
    "print(y>>2)\n",
    "print(y<<2)\n",
    "\n",
    "\n",
    "'''\n",
    "Assignment operators\n",
    "=\tx = 5\tx = 5\n",
    "+=\tx += 5\tx = x + 5\n",
    "-=\tx -= 5\tx = x - 5\n",
    "*=\tx *= 5\tx = x * 5\n",
    "/=\tx /= 5\tx = x / 5\n",
    "%=\tx %= 5\tx = x % 5\n",
    "//=\tx //= 5\tx = x // 5\n",
    "**=\tx **= 5\tx = x ** 5\n",
    "&=\tx &= 5\tx = x & 5\n",
    "|=\tx |= 5\tx = x | 5\n",
    "^=\tx ^= 5\tx = x ^ 5\n",
    ">>=\tx >>= 5\tx = x >> 5\n",
    "<<=\tx <<= 5\tx = x << 5\n",
    "\n",
    "'''\n",
    "\n",
    "\n",
    "\n",
    "'''\n",
    "Special operators\n",
    "    *Identity operators\n",
    "    is\tTrue if the operands are identical (refer to the same object)\tx is True\n",
    "    is not\tTrue if the operands are not identical (do not refer to the same object)\tx is not True\n",
    "\n",
    "    *Membership operators\n",
    "    in\tTrue if value/variable is found in the sequence\t5 in x\n",
    "    not in\tTrue if value/variable is not found in the sequence\t5 not in x\n",
    "'''\n",
    "\n",
    "print(\"\\nIdentity operators\")\n",
    "x=5\n",
    "y=5\n",
    "\n",
    "print(x is y)\n",
    "print(x is not y)\n",
    "\n",
    "x='jamal'\n",
    "y='a'\n",
    "\n",
    "print(\"x in y\",x in y)\n",
    "print(\"y in x\",y in x)\n",
    "\n",
    "print(\"x not in y\",x not in y)\n",
    "print(\"y not in x\",y not in x)\n"
   ]
  },
  {
   "cell_type": "code",
   "execution_count": 299,
   "metadata": {},
   "outputs": [
    {
     "name": "stdout",
     "output_type": "stream",
     "text": [
      "The Zen of Python, by Tim Peters\n",
      "\n",
      "Beautiful is better than ugly.\n",
      "Explicit is better than implicit.\n",
      "Simple is better than complex.\n",
      "Complex is better than complicated.\n",
      "Flat is better than nested.\n",
      "Sparse is better than dense.\n",
      "Readability counts.\n",
      "Special cases aren't special enough to break the rules.\n",
      "Although practicality beats purity.\n",
      "Errors should never pass silently.\n",
      "Unless explicitly silenced.\n",
      "In the face of ambiguity, refuse the temptation to guess.\n",
      "There should be one-- and preferably only one --obvious way to do it.\n",
      "Although that way may not be obvious at first unless you're Dutch.\n",
      "Now is better than never.\n",
      "Although never is often better than *right* now.\n",
      "If the implementation is hard to explain, it's a bad idea.\n",
      "If the implementation is easy to explain, it may be a good idea.\n",
      "Namespaces are one honking great idea -- let's do more of those!\n"
     ]
    },
    {
     "data": {
      "text/plain": [
       "<module 'this' from 'C:\\\\Users\\\\mohammak\\\\AppData\\\\Local\\\\Continuum\\\\anaconda3\\\\lib\\\\this.py'>"
      ]
     },
     "execution_count": 299,
     "metadata": {},
     "output_type": "execute_result"
    }
   ],
   "source": [
    "#Zen of python\n",
    "import this\n",
    "imp.reload(this)"
   ]
  },
  {
   "cell_type": "markdown",
   "metadata": {},
   "source": [
    "# Namespace and Scope in python"
   ]
  },
  {
   "cell_type": "code",
   "execution_count": 313,
   "metadata": {},
   "outputs": [
    {
     "name": "stdout",
     "output_type": "stream",
     "text": [
      "140736048903024\n",
      "140736048903024\n",
      "140736048903056\n",
      "140736048903024\n",
      "140736048903056\n"
     ]
    }
   ],
   "source": [
    "\n",
    "a = 2\n",
    "print(id(2))\n",
    "print(id(a))\n",
    "\n",
    "a=a+1\n",
    "print(id(a))\n",
    "print(id(2))\n",
    "print(id(3))\n"
   ]
  },
  {
   "cell_type": "code",
   "execution_count": 319,
   "metadata": {},
   "outputs": [
    {
     "name": "stdout",
     "output_type": "stream",
     "text": [
      "Hello\n",
      "None\n",
      "140736048418016\n",
      "<class 'NoneType'>\n"
     ]
    }
   ],
   "source": [
    "def printHello():\n",
    "    print(\"Hello\")\n",
    "    \n",
    "a = printHello()\n",
    "print(a)\n",
    "print(id(a))\n",
    "print(type(a))"
   ]
  },
  {
   "cell_type": "code",
   "execution_count": 347,
   "metadata": {},
   "outputs": [
    {
     "name": "stdout",
     "output_type": "stream",
     "text": [
      "a =  10\n",
      "b =  20\n",
      "d =  30\n"
     ]
    }
   ],
   "source": [
    "#local, global and built in namespace\n",
    "\n",
    "def outer_function():\n",
    "    _b = 20\n",
    "    _d = _a + _b\n",
    "    print(\"b = \",_b)\n",
    "    print(\"d = \",_d)\n",
    "    \n",
    "    def inner_function():\n",
    "        _c = 30\n",
    "        _e = _a+_b+_c+_d\n",
    "        print(\"c = \",_c)\n",
    "        print(\"e = \",_e)\n",
    "\n",
    "_a = 10\n",
    "print(\"a = \",_a)\n",
    "\n",
    "outer_function()\n",
    "#inner_function()\n",
    "\n"
   ]
  },
  {
   "cell_type": "code",
   "execution_count": 348,
   "metadata": {},
   "outputs": [
    {
     "name": "stdout",
     "output_type": "stream",
     "text": [
      "[2, 3, 4]\n"
     ]
    }
   ],
   "source": [
    "numbers = [2, 3, 4]\n",
    "print(numbers)"
   ]
  },
  {
   "cell_type": "code",
   "execution_count": 349,
   "metadata": {},
   "outputs": [
    {
     "name": "stdout",
     "output_type": "stream",
     "text": [
      "True\n"
     ]
    }
   ],
   "source": [
    "print(3 >= 3)"
   ]
  },
  {
   "cell_type": "code",
   "execution_count": 355,
   "metadata": {},
   "outputs": [
    {
     "name": "stdout",
     "output_type": "stream",
     "text": [
      "range(0, 10)\n",
      "[0, 1, 2, 3, 4, 5, 6, 7, 8, 9]\n",
      "[2, 3, 4, 5, 6, 7]\n",
      "[2, 5, 8, 11, 14, 17]\n",
      "Genre =  pop\n",
      "Genre =  jazz\n",
      "Genre =  classical\n"
     ]
    }
   ],
   "source": [
    "#Range Function\n",
    "\n",
    "print(range(10))\n",
    "\n",
    "print(list(range(10)))\n",
    "\n",
    "print(list(range(2,8)))\n",
    "\n",
    "print(list(range(2,20,3)))\n",
    "\n",
    "#iterate thru list\n",
    "\n",
    "genre = ['pop','jazz','classical']\n",
    "\n",
    "for i in range(len(genre)):\n",
    "    print(\"Genre = \",genre[i])"
   ]
  },
  {
   "cell_type": "markdown",
   "metadata": {},
   "source": [
    "# for loop with else"
   ]
  },
  {
   "cell_type": "code",
   "execution_count": 356,
   "metadata": {},
   "outputs": [
    {
     "name": "stdout",
     "output_type": "stream",
     "text": [
      "1\n",
      "3\n",
      "5\n",
      "7\n",
      "No items left\n"
     ]
    }
   ],
   "source": [
    "'''\n",
    "A for loop can have an optional else block as well. \n",
    "The else part is executed if the items in the sequence used in for loop exhausts.\n",
    "break statement can be used to stop a for loop. In such case, the else part is ignored.\n",
    "Hence, a for loop's else part runs if no break occurs.\n",
    "'''\n",
    "\n",
    "digits = [1,3,5,7]\n",
    "\n",
    "for i in digits:\n",
    "    print(i)\n",
    "else:\n",
    "    print(\"No items left\")"
   ]
  },
  {
   "cell_type": "markdown",
   "metadata": {},
   "source": []
  }
 ],
 "metadata": {
  "kernelspec": {
   "display_name": "Python 3",
   "language": "python",
   "name": "python3"
  },
  "language_info": {
   "codemirror_mode": {
    "name": "ipython",
    "version": 3
   },
   "file_extension": ".py",
   "mimetype": "text/x-python",
   "name": "python",
   "nbconvert_exporter": "python",
   "pygments_lexer": "ipython3",
   "version": "3.7.1"
  }
 },
 "nbformat": 4,
 "nbformat_minor": 2
}
