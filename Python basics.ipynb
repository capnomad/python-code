{
 "cells": [
  {
   "cell_type": "markdown",
   "metadata": {},
   "source": [
    "# Day 1"
   ]
  },
  {
   "cell_type": "markdown",
   "metadata": {},
   "source": [
    "# Print Function"
   ]
  },
  {
   "cell_type": "code",
   "execution_count": 4,
   "metadata": {},
   "outputs": [
    {
     "name": "stdout",
     "output_type": "stream",
     "text": [
      "hello world\n",
      "a= 5\n",
      "a+b= 11\n",
      "c= 11\n",
      "single quotes\n",
      "3\n"
     ]
    }
   ],
   "source": [
    "#print function\n",
    "print(\"hello world\")\n",
    "a=5\n",
    "print(\"a=\",a)\n",
    "b=6\n",
    "print(\"a+b=\",a+b)\n",
    "c=a+b\n",
    "print(\"c=\",c)\n",
    "print('single quotes')\n",
    "print(3)"
   ]
  },
  {
   "cell_type": "code",
   "execution_count": 5,
   "metadata": {},
   "outputs": [
    {
     "name": "stdout",
     "output_type": "stream",
     "text": [
      "more strings\n",
      "3\n"
     ]
    }
   ],
   "source": [
    "print(\"more strings\")\n",
    "print(3)"
   ]
  },
  {
   "cell_type": "code",
   "execution_count": 6,
   "metadata": {},
   "outputs": [
    {
     "name": "stdout",
     "output_type": "stream",
     "text": [
      "1\n"
     ]
    }
   ],
   "source": [
    "a = 1\n",
    "print(a)"
   ]
  },
  {
   "cell_type": "code",
   "execution_count": 7,
   "metadata": {},
   "outputs": [
    {
     "name": "stdout",
     "output_type": "stream",
     "text": [
      "2\n"
     ]
    }
   ],
   "source": [
    "b=2\n",
    "print(b)"
   ]
  },
  {
   "cell_type": "code",
   "execution_count": 8,
   "metadata": {},
   "outputs": [
    {
     "name": "stdout",
     "output_type": "stream",
     "text": [
      "1\n",
      "2\n"
     ]
    }
   ],
   "source": [
    "print(a)\n",
    "print(b)"
   ]
  },
  {
   "cell_type": "code",
   "execution_count": 9,
   "metadata": {},
   "outputs": [
    {
     "name": "stdout",
     "output_type": "stream",
     "text": [
      "hello there jamal\n"
     ]
    }
   ],
   "source": [
    "c=\"hello there jamal\"\n",
    "print (c)"
   ]
  },
  {
   "cell_type": "code",
   "execution_count": 10,
   "metadata": {},
   "outputs": [
    {
     "name": "stdout",
     "output_type": "stream",
     "text": [
      "this is a string\n"
     ]
    }
   ],
   "source": [
    "e=\"this is a string\"\n",
    "print(e)"
   ]
  },
  {
   "cell_type": "code",
   "execution_count": 11,
   "metadata": {},
   "outputs": [
    {
     "name": "stdout",
     "output_type": "stream",
     "text": [
      "this is a string this is a string\n"
     ]
    }
   ],
   "source": [
    "c=e\n",
    "print(c,e)"
   ]
  },
  {
   "cell_type": "markdown",
   "metadata": {},
   "source": [
    "# Swapping 2 variables"
   ]
  },
  {
   "cell_type": "code",
   "execution_count": 12,
   "metadata": {},
   "outputs": [
    {
     "name": "stdout",
     "output_type": "stream",
     "text": [
      "first\n",
      "second\n",
      "second\n",
      "first\n"
     ]
    }
   ],
   "source": [
    "v1=\"first\"\n",
    "v2=\"second\"\n",
    "print(v1)\n",
    "print(v2)\n",
    "vtemp=v1\n",
    "v1=v2\n",
    "v2=vtemp\n",
    "print(v1)\n",
    "print(v2)"
   ]
  },
  {
   "cell_type": "markdown",
   "metadata": {},
   "source": [
    "# IF ELSE Statement - Day 2"
   ]
  },
  {
   "cell_type": "code",
   "execution_count": 13,
   "metadata": {},
   "outputs": [
    {
     "name": "stdout",
     "output_type": "stream",
     "text": [
      "not sure if a is less than b\n"
     ]
    }
   ],
   "source": [
    "a=3\n",
    "b=2\n",
    "\n",
    "if a < b :\n",
    "    print(\"a is less than b\")\n",
    "    print(\"if statement\")\n",
    "    \n",
    "print(\"not sure if a is less than b\")"
   ]
  },
  {
   "cell_type": "code",
   "execution_count": 14,
   "metadata": {},
   "outputs": [
    {
     "name": "stdout",
     "output_type": "stream",
     "text": [
      "c is greater than d\n",
      "outside if block\n"
     ]
    }
   ],
   "source": [
    "c = 5\n",
    "d = 4\n",
    "\n",
    "if c < d :\n",
    "    print(\"c is less than d\")\n",
    "else :\n",
    "    print(\"c is greater than d\")\n",
    "\n",
    "print(\"outside if block\")\n",
    "    \n",
    "    "
   ]
  },
  {
   "cell_type": "code",
   "execution_count": 15,
   "metadata": {},
   "outputs": [
    {
     "name": "stdout",
     "output_type": "stream",
     "text": [
      "e is greater than f by 10\n",
      "outside if block\n"
     ]
    }
   ],
   "source": [
    "e = 15\n",
    "f = 4\n",
    "\n",
    "if e < f :\n",
    "    print(\"e is less than f\")\n",
    "elif e == f:\n",
    "    print(\"e is equal to f\")\n",
    "elif e > f + 10:\n",
    "    print(\"e is greater than f by 10\")\n",
    "else :\n",
    "    print(\"e is greater than f\")\n",
    "\n",
    "print(\"outside if block\")\n",
    "    \n",
    "    "
   ]
  },
  {
   "cell_type": "code",
   "execution_count": 16,
   "metadata": {},
   "outputs": [
    {
     "name": "stdout",
     "output_type": "stream",
     "text": [
      "Jamal :  21.705129432793896\n",
      "BMI is normal\n"
     ]
    }
   ],
   "source": [
    "##BMI Calculator\n",
    "name=\"Jamal\"\n",
    "weight_kg=68\n",
    "height_m=1.77\n",
    "\n",
    "bmi = weight_kg / (height_m ** 2)\n",
    "print(name,\": \",bmi)\n",
    "if bmi <= 18:\n",
    "    print(\"BMI is Underweight\")\n",
    "elif bmi > 18 and bmi <=25:\n",
    "    print(\"BMI is normal\")\n",
    "else:\n",
    "    print(\"BMI is overweight\")\n",
    "    \n",
    "\n",
    "\n"
   ]
  },
  {
   "cell_type": "markdown",
   "metadata": {},
   "source": [
    "# Functions - Day 3"
   ]
  },
  {
   "cell_type": "code",
   "execution_count": 15,
   "metadata": {},
   "outputs": [
    {
     "name": "stdout",
     "output_type": "stream",
     "text": [
      "outside the function\n"
     ]
    }
   ],
   "source": [
    "def function1():\n",
    "    print(\"abcdef\")\n",
    "    print(\"ghijkl\")\n",
    "print(\"outside the function\")"
   ]
  },
  {
   "cell_type": "code",
   "execution_count": 16,
   "metadata": {},
   "outputs": [
    {
     "name": "stdout",
     "output_type": "stream",
     "text": [
      "abcdef\n",
      "ghijkl\n"
     ]
    }
   ],
   "source": [
    "function1()"
   ]
  },
  {
   "cell_type": "code",
   "execution_count": 17,
   "metadata": {},
   "outputs": [
    {
     "name": "stdout",
     "output_type": "stream",
     "text": [
      "abcdef\n",
      "ghijkl\n",
      "abcdef\n",
      "ghijkl\n",
      "abcdef\n",
      "ghijkl\n"
     ]
    }
   ],
   "source": [
    "function1()\n",
    "function1()\n",
    "function1()\n"
   ]
  },
  {
   "cell_type": "code",
   "execution_count": 18,
   "metadata": {},
   "outputs": [],
   "source": [
    "#comment"
   ]
  },
  {
   "cell_type": "code",
   "execution_count": 12,
   "metadata": {},
   "outputs": [
    {
     "name": "stdout",
     "output_type": "stream",
     "text": [
      "8\n"
     ]
    }
   ],
   "source": [
    "def function2(x):\n",
    "    return 2*x\n",
    "\n",
    "print(function2(4))"
   ]
  },
  {
   "cell_type": "code",
   "execution_count": 13,
   "metadata": {},
   "outputs": [
    {
     "name": "stdout",
     "output_type": "stream",
     "text": [
      "6\n"
     ]
    }
   ],
   "source": [
    "a = function2(3)\n",
    "print(a)\n",
    "#return value or output"
   ]
  },
  {
   "cell_type": "code",
   "execution_count": 14,
   "metadata": {},
   "outputs": [
    {
     "ename": "TypeError",
     "evalue": "function2() missing 1 required positional argument: 'x'",
     "output_type": "error",
     "traceback": [
      "\u001b[1;31m---------------------------------------------------------------------------\u001b[0m",
      "\u001b[1;31mTypeError\u001b[0m                                 Traceback (most recent call last)",
      "\u001b[1;32m<ipython-input-14-9aa6cbd6b7fb>\u001b[0m in \u001b[0;36m<module>\u001b[1;34m\u001b[0m\n\u001b[1;32m----> 1\u001b[1;33m \u001b[0md\u001b[0m\u001b[1;33m=\u001b[0m\u001b[0mfunction2\u001b[0m\u001b[1;33m(\u001b[0m\u001b[1;33m)\u001b[0m\u001b[1;33m\u001b[0m\u001b[1;33m\u001b[0m\u001b[0m\n\u001b[0m",
      "\u001b[1;31mTypeError\u001b[0m: function2() missing 1 required positional argument: 'x'"
     ]
    }
   ],
   "source": [
    "d=function2()"
   ]
  },
  {
   "cell_type": "code",
   "execution_count": 19,
   "metadata": {},
   "outputs": [
    {
     "name": "stdout",
     "output_type": "stream",
     "text": [
      "5\n"
     ]
    }
   ],
   "source": [
    "def function3(x,y):\n",
    "    return x+y\n",
    "\n",
    "e=function3(2,3)\n",
    "print(e)"
   ]
  },
  {
   "cell_type": "code",
   "execution_count": 4,
   "metadata": {},
   "outputs": [],
   "source": [
    "def function4(arg):\n",
    "    print(\"inside function\")\n",
    "    print(arg)\n",
    "    return arg*5"
   ]
  },
  {
   "cell_type": "code",
   "execution_count": 5,
   "metadata": {},
   "outputs": [
    {
     "name": "stdout",
     "output_type": "stream",
     "text": [
      "inside function\n",
      "4\n",
      "e = 20\n"
     ]
    }
   ],
   "source": [
    "e=function4(4)\n",
    "print(\"e =\",e)"
   ]
  },
  {
   "cell_type": "code",
   "execution_count": 20,
   "metadata": {},
   "outputs": [
    {
     "name": "stdout",
     "output_type": "stream",
     "text": [
      "6\n"
     ]
    }
   ],
   "source": [
    "def multiply(x,y):\n",
    "    return x*y\n",
    "\n",
    "a=2\n",
    "b=3\n",
    "c=multiply(a,b)\n",
    "print(c)"
   ]
  },
  {
   "cell_type": "code",
   "execution_count": 30,
   "metadata": {},
   "outputs": [
    {
     "name": "stdout",
     "output_type": "stream",
     "text": [
      "bmi: 23.18339100346021\n",
      "bmi: 20.761245674740486\n",
      "bmi: 13.84083044982699\n",
      "bmi: 31.14186851211073\n",
      "jamal is ok\n",
      "ankit is ok\n",
      "nalin is underweight\n",
      "anup is overweight\n"
     ]
    }
   ],
   "source": [
    "#BMI Calculator\n",
    "name1=\"jamal\"\n",
    "h1=1.7\n",
    "w1=67\n",
    "\n",
    "name2=\"ankit\"\n",
    "h2=1.7\n",
    "w2=60\n",
    "\n",
    "name3=\"nalin\"\n",
    "h3=1.7\n",
    "w3=40\n",
    "\n",
    "name4=\"anup\"\n",
    "h4=1.7\n",
    "w4=90\n",
    "\n",
    "def bmi_f(name,height_m,weight_kg):\n",
    "        bmi=weight_kg / height_m**2\n",
    "        print(\"bmi:\",bmi)\n",
    "        if bmi > 18 and bmi <= 25 :\n",
    "            return name + \" is ok\"\n",
    "        elif bmi > 25:\n",
    "            return name + \" is overweight\"\n",
    "        else:\n",
    "            return name + \" is underweight\"\n",
    "\n",
    "        \n",
    "result1 = bmi_f(name1,h1,w1)\n",
    "result2 = bmi_f(name2,h2,w2)\n",
    "result3 = bmi_f(name3,h3,w3)\n",
    "result4 = bmi_f(name4,h4,w4)\n",
    "print(result1)\n",
    "print(result2)\n",
    "print(result3)\n",
    "print(result4)\n"
   ]
  },
  {
   "cell_type": "code",
   "execution_count": 32,
   "metadata": {},
   "outputs": [
    {
     "name": "stdout",
     "output_type": "stream",
     "text": [
      "m1 =  15\n",
      "m2 =  130\n",
      "m3 =  120.5\n",
      "Converting miles to km\n",
      "km1 =  24.0\n",
      "km2 =  208.0\n",
      "km3 =  192.8\n"
     ]
    }
   ],
   "source": [
    "#miles to km\n",
    "#km = 1.6 miles\n",
    "\n",
    "m1 = 15\n",
    "m2 = 130\n",
    "m3 = 120.5\n",
    "\n",
    "\n",
    "def comvert_mile_to_km(miles):\n",
    "    km = 1.6*miles\n",
    "    return km\n",
    "\n",
    "\n",
    "km1 = comvert_mile_to_km(m1)\n",
    "km2 = comvert_mile_to_km(m2)\n",
    "km3 = comvert_mile_to_km(m3)\n",
    "\n",
    "\n",
    "print(\"m1 = \",m1)\n",
    "print(\"m2 = \",m2)\n",
    "print(\"m3 = \",m3)\n",
    "print(\"Converting miles to km\")\n",
    "\n",
    "print(\"km1 = \",km1)\n",
    "print(\"km2 = \",km2)\n",
    "print(\"km3 = \",km3)\n"
   ]
  },
  {
   "cell_type": "markdown",
   "metadata": {},
   "source": [
    "# Data Structures in Python"
   ]
  },
  {
   "cell_type": "markdown",
   "metadata": {},
   "source": [
    "## Lists"
   ]
  },
  {
   "cell_type": "code",
   "execution_count": 33,
   "metadata": {},
   "outputs": [],
   "source": [
    "a = [3, 10, -1]"
   ]
  },
  {
   "cell_type": "code",
   "execution_count": 34,
   "metadata": {},
   "outputs": [
    {
     "name": "stdout",
     "output_type": "stream",
     "text": [
      "[3, 10, -1]\n"
     ]
    }
   ],
   "source": [
    "print(a)"
   ]
  },
  {
   "cell_type": "code",
   "execution_count": 35,
   "metadata": {},
   "outputs": [],
   "source": [
    "a.append(1)"
   ]
  },
  {
   "cell_type": "code",
   "execution_count": 36,
   "metadata": {},
   "outputs": [
    {
     "name": "stdout",
     "output_type": "stream",
     "text": [
      "[3, 10, -1, 1]\n"
     ]
    }
   ],
   "source": [
    "print(a)"
   ]
  },
  {
   "cell_type": "code",
   "execution_count": 37,
   "metadata": {},
   "outputs": [],
   "source": [
    "#add string to list\n",
    "a.append(\"hello\")"
   ]
  },
  {
   "cell_type": "code",
   "execution_count": 38,
   "metadata": {},
   "outputs": [
    {
     "name": "stdout",
     "output_type": "stream",
     "text": [
      "[3, 10, -1, 1, 'hello']\n"
     ]
    }
   ],
   "source": [
    "print(a)"
   ]
  },
  {
   "cell_type": "code",
   "execution_count": 39,
   "metadata": {},
   "outputs": [],
   "source": [
    "#add list to list\n",
    "a.append([1,2])"
   ]
  },
  {
   "cell_type": "code",
   "execution_count": 40,
   "metadata": {},
   "outputs": [
    {
     "name": "stdout",
     "output_type": "stream",
     "text": [
      "[3, 10, -1, 1, 'hello', [1, 2]]\n"
     ]
    }
   ],
   "source": [
    "print(a)"
   ]
  },
  {
   "cell_type": "code",
   "execution_count": 41,
   "metadata": {},
   "outputs": [
    {
     "name": "stdout",
     "output_type": "stream",
     "text": [
      "[3, 10, -1, 1, 'hello']\n"
     ]
    }
   ],
   "source": [
    "#delete\n",
    "a.pop()\n",
    "print(a)"
   ]
  },
  {
   "cell_type": "code",
   "execution_count": 45,
   "metadata": {},
   "outputs": [
    {
     "name": "stdout",
     "output_type": "stream",
     "text": [
      "3\n"
     ]
    }
   ],
   "source": [
    "#print value at index\n",
    "print(a[0])"
   ]
  },
  {
   "cell_type": "code",
   "execution_count": 46,
   "metadata": {},
   "outputs": [
    {
     "data": {
      "text/plain": [
       "1"
      ]
     },
     "execution_count": 46,
     "metadata": {},
     "output_type": "execute_result"
    }
   ],
   "source": [
    "a[3]"
   ]
  },
  {
   "cell_type": "code",
   "execution_count": 47,
   "metadata": {},
   "outputs": [
    {
     "data": {
      "text/plain": [
       "'hello'"
      ]
     },
     "execution_count": 47,
     "metadata": {},
     "output_type": "execute_result"
    }
   ],
   "source": [
    "a[4]"
   ]
  },
  {
   "cell_type": "code",
   "execution_count": 48,
   "metadata": {},
   "outputs": [
    {
     "name": "stdout",
     "output_type": "stream",
     "text": [
      "[5, 10, -1, 1, 'hello']\n"
     ]
    }
   ],
   "source": [
    "#change value at index\n",
    "a[0]=5\n",
    "print(a)"
   ]
  },
  {
   "cell_type": "code",
   "execution_count": 55,
   "metadata": {},
   "outputs": [
    {
     "name": "stdout",
     "output_type": "stream",
     "text": [
      "['banana', 'apple', 'microsoft']\n",
      "['microsoft', 'apple', 'banana']\n"
     ]
    }
   ],
   "source": [
    "b = [\"banana\", \"apple\", \"microsoft\"]\n",
    "print(b)\n",
    "#swap items in list\n",
    "temp = b[0]\n",
    "b[0]=b[2]\n",
    "b[2]=temp\n",
    "print(b)"
   ]
  },
  {
   "cell_type": "code",
   "execution_count": 56,
   "metadata": {},
   "outputs": [
    {
     "name": "stdout",
     "output_type": "stream",
     "text": [
      "['banana', 'apple', 'microsoft']\n"
     ]
    }
   ],
   "source": [
    "b[0],b[2] = b[2],b[0]\n",
    "print(b)"
   ]
  },
  {
   "cell_type": "markdown",
   "metadata": {},
   "source": [
    "# For Loop"
   ]
  },
  {
   "cell_type": "code",
   "execution_count": 57,
   "metadata": {},
   "outputs": [],
   "source": [
    "a=[\"apple\",\"banana\",\"google\",\"microsoft\"]"
   ]
  },
  {
   "cell_type": "code",
   "execution_count": 59,
   "metadata": {},
   "outputs": [
    {
     "name": "stdout",
     "output_type": "stream",
     "text": [
      "apple\n",
      "banana\n",
      "google\n",
      "microsoft\n",
      "loop end\n"
     ]
    }
   ],
   "source": [
    "for element in a:\n",
    "    print(element)\n",
    "print(\"loop end\")"
   ]
  },
  {
   "cell_type": "code",
   "execution_count": 62,
   "metadata": {},
   "outputs": [
    {
     "name": "stdout",
     "output_type": "stream",
     "text": [
      "20\n",
      "30\n",
      "10\n",
      "50\n",
      "60\n",
      "170\n"
     ]
    }
   ],
   "source": [
    "b=[20,30,10,50,60]\n",
    "total=0\n",
    "for e in b:\n",
    "    print(e)\n",
    "    total=total+e\n",
    "\n",
    "print(total)"
   ]
  },
  {
   "cell_type": "code",
   "execution_count": 65,
   "metadata": {},
   "outputs": [
    {
     "name": "stdout",
     "output_type": "stream",
     "text": [
      "range(1, 5)\n",
      "[1, 2, 3, 4]\n",
      "a= [1, 2, 3, 4]\n"
     ]
    }
   ],
   "source": [
    "# 1,2,3,4\n",
    "#range function\n",
    "#range(1,5)\n",
    "\n",
    "\n",
    "print(range(1,5))\n",
    "print(list(range(1,5)))\n",
    "\n",
    "a= list(range(1,5))\n",
    "print(\"a=\",a)"
   ]
  },
  {
   "cell_type": "code",
   "execution_count": 67,
   "metadata": {},
   "outputs": [
    {
     "name": "stdout",
     "output_type": "stream",
     "text": [
      "1\n",
      "2\n",
      "3\n",
      "4\n",
      "10\n"
     ]
    }
   ],
   "source": [
    "total2=0\n",
    "for i in range(1,5):\n",
    "    print(i)\n",
    "    total2+=i\n",
    "    \n",
    "print(total2)"
   ]
  },
  {
   "cell_type": "code",
   "execution_count": 69,
   "metadata": {},
   "outputs": [
    {
     "name": "stdout",
     "output_type": "stream",
     "text": [
      "[1, 2, 3, 4, 5, 6, 7]\n"
     ]
    }
   ],
   "source": [
    "print(list(range(1,8)))"
   ]
  },
  {
   "cell_type": "code",
   "execution_count": 72,
   "metadata": {},
   "outputs": [
    {
     "name": "stdout",
     "output_type": "stream",
     "text": [
      "9\n"
     ]
    }
   ],
   "source": [
    "#sum of multiples of 3\n",
    "total3=0\n",
    "for i in range(1,8):\n",
    "    if i % 3 == 0:\n",
    "        total3 += i\n",
    "print(total3)"
   ]
  },
  {
   "cell_type": "code",
   "execution_count": 73,
   "metadata": {},
   "outputs": [
    {
     "name": "stdout",
     "output_type": "stream",
     "text": [
      "[1, 2, 3, 4, 5, 6, 7, 8, 9, 10, 11, 12, 13, 14, 15, 16, 17, 18, 19, 20, 21, 22, 23, 24, 25, 26, 27, 28, 29, 30, 31, 32, 33, 34, 35, 36, 37, 38, 39, 40, 41, 42, 43, 44, 45, 46, 47, 48, 49, 50, 51, 52, 53, 54, 55, 56, 57, 58, 59, 60, 61, 62, 63, 64, 65, 66, 67, 68, 69, 70, 71, 72, 73, 74, 75, 76, 77, 78, 79, 80, 81, 82, 83, 84, 85, 86, 87, 88, 89, 90, 91, 92, 93, 94, 95, 96, 97, 98, 99]\n"
     ]
    }
   ],
   "source": [
    "print(list(range(1,100)))"
   ]
  },
  {
   "cell_type": "code",
   "execution_count": 122,
   "metadata": {},
   "outputs": [
    {
     "name": "stdout",
     "output_type": "stream",
     "text": [
      "2318\n"
     ]
    }
   ],
   "source": [
    "#sum of multiples of 3 or 5\n",
    "total4=0\n",
    "for i in range(1,100):\n",
    "    if i % 3 == 0 or i %5==0:\n",
    "        #print(i)\n",
    "        total4+=i\n",
    "print(total4)"
   ]
  },
  {
   "cell_type": "code",
   "execution_count": 81,
   "metadata": {},
   "outputs": [
    {
     "name": "stdout",
     "output_type": "stream",
     "text": [
      "10\n"
     ]
    }
   ],
   "source": [
    "total = 0\n",
    "for i in range(1,5):\n",
    "    total+=i\n",
    "    \n",
    "print(total)"
   ]
  },
  {
   "cell_type": "markdown",
   "metadata": {},
   "source": [
    "# While Loop"
   ]
  },
  {
   "cell_type": "code",
   "execution_count": 88,
   "metadata": {},
   "outputs": [
    {
     "name": "stdout",
     "output_type": "stream",
     "text": [
      "1\n",
      "3\n",
      "6\n",
      "10\n",
      "outside loop: 10\n"
     ]
    }
   ],
   "source": [
    "total2 = 0\n",
    "j=1\n",
    "while j < 5:\n",
    "    total2+=j\n",
    "    #print(j)\n",
    "    print(total2)\n",
    "    j+=1\n",
    "print(\"outside loop:\",total2)"
   ]
  },
  {
   "cell_type": "code",
   "execution_count": 91,
   "metadata": {},
   "outputs": [
    {
     "name": "stdout",
     "output_type": "stream",
     "text": [
      "15\n"
     ]
    }
   ],
   "source": [
    "list1 = [5,4,3,2,1,0,-1,-2,-3,-4,-5]\n",
    "total3 = 0\n",
    "i=0\n",
    "while list1[i] > 0:\n",
    "    total3+=list1[i]\n",
    "    i+=1\n",
    "print(total3)"
   ]
  },
  {
   "cell_type": "code",
   "execution_count": 95,
   "metadata": {},
   "outputs": [
    {
     "name": "stdout",
     "output_type": "stream",
     "text": [
      "15\n"
     ]
    }
   ],
   "source": [
    "#list length:  len(list2)\n",
    "\n",
    "list2 = [5,4,3,2,1]\n",
    "total=0\n",
    "i=0\n",
    "while i < len(list2) and list2[i] > 0:\n",
    "    total+=list2[i]\n",
    "    i+=1\n",
    "    \n",
    "print(total)"
   ]
  },
  {
   "cell_type": "code",
   "execution_count": 99,
   "metadata": {},
   "outputs": [
    {
     "name": "stdout",
     "output_type": "stream",
     "text": [
      "15\n"
     ]
    }
   ],
   "source": [
    "list3 = [5,4,3,2,1,0,-1,-2,-3,-4,-5]\n",
    "total4 = 0\n",
    "for element in list3:\n",
    "    if element <= 0:\n",
    "        break\n",
    "    total4 +=element\n",
    "    \n",
    "print(total4)"
   ]
  },
  {
   "cell_type": "code",
   "execution_count": 100,
   "metadata": {},
   "outputs": [
    {
     "name": "stdout",
     "output_type": "stream",
     "text": [
      "15\n"
     ]
    }
   ],
   "source": [
    "#list3 = [5,4,3,2,1,0,-1,-2,-3,-4,-5]\n",
    "total5 = 0\n",
    "i = 0\n",
    "while True:\n",
    "    total5 += list3[i]\n",
    "    i +=1\n",
    "    if list3[i] <= 0:\n",
    "        break\n",
    "print(total5)"
   ]
  },
  {
   "cell_type": "code",
   "execution_count": 102,
   "metadata": {},
   "outputs": [
    {
     "name": "stdout",
     "output_type": "stream",
     "text": [
      "-22\n"
     ]
    }
   ],
   "source": [
    "#list3 = [5,4,3,2,1,0,-1,-2,-3,-4,-5]\n",
    "list4 = [5,4,3,2,1,0,-1,-2,-3,-4,-5,-7]\n",
    "\n",
    "total = 0\n",
    "i = 0\n",
    "for element in list4:\n",
    "    if element < 0:\n",
    "        total += element\n",
    "    \n",
    "print(total)"
   ]
  },
  {
   "cell_type": "code",
   "execution_count": 124,
   "metadata": {},
   "outputs": [
    {
     "name": "stdout",
     "output_type": "stream",
     "text": [
      "-31\n"
     ]
    }
   ],
   "source": [
    "list4 = [5,4,3,2,1,0,-1,-2,-3,-4,-5,-7,-9]\n",
    "total5 = 0\n",
    "i= 0\n",
    "while i < len(list4):\n",
    "    if list4[i] < 0:\n",
    "        total5+=list4[i]\n",
    "    i += 1\n",
    "print(total5)"
   ]
  },
  {
   "cell_type": "code",
   "execution_count": 109,
   "metadata": {},
   "outputs": [
    {
     "name": "stdout",
     "output_type": "stream",
     "text": [
      "apple\n",
      "banana\n",
      "carrot\n"
     ]
    }
   ],
   "source": [
    "a = [\"apple\", \"banana\", \"carrot\"]\n",
    "\n",
    "for element in a:\n",
    "    print(element)\n"
   ]
  },
  {
   "cell_type": "code",
   "execution_count": 114,
   "metadata": {},
   "outputs": [
    {
     "name": "stdout",
     "output_type": "stream",
     "text": [
      "apple\n",
      "banana\n",
      "carrot\n"
     ]
    }
   ],
   "source": [
    "for i in range(len(a)):\n",
    "    print(a[i])"
   ]
  },
  {
   "cell_type": "code",
   "execution_count": 117,
   "metadata": {},
   "outputs": [
    {
     "name": "stdout",
     "output_type": "stream",
     "text": [
      "apple\n",
      "banana\n",
      "banana\n",
      "carrot\n",
      "carrot\n",
      "carrot\n"
     ]
    }
   ],
   "source": [
    "# nested loop\n",
    "#i=0, j=1\n",
    "#i=1, j=0,1\n",
    "#i=2, j=0,1,2\n",
    "\n",
    "\n",
    "for i in range(len(a)):\n",
    "    for j in range(i+1):\n",
    "        print(a[i])\n",
    "    "
   ]
  },
  {
   "cell_type": "markdown",
   "metadata": {},
   "source": [
    "# Dictionaries in Python"
   ]
  },
  {
   "cell_type": "code",
   "execution_count": 129,
   "metadata": {},
   "outputs": [],
   "source": [
    "d = {}"
   ]
  },
  {
   "cell_type": "code",
   "execution_count": 127,
   "metadata": {},
   "outputs": [],
   "source": [
    "d1 = {\"Jamal\":100, \"bilal\":200, \"nazmi\":300}"
   ]
  },
  {
   "cell_type": "code",
   "execution_count": 130,
   "metadata": {},
   "outputs": [],
   "source": [
    "d2 = {}\n",
    "d2[\"Anup\"]=24\n",
    "d2[\"ankit\"]=26\n",
    "d2[\"nalin\"]=27"
   ]
  },
  {
   "cell_type": "code",
   "execution_count": 131,
   "metadata": {},
   "outputs": [
    {
     "name": "stdout",
     "output_type": "stream",
     "text": [
      "{'Anup': 24, 'ankit': 26, 'nalin': 27}\n"
     ]
    }
   ],
   "source": [
    "print(d2)"
   ]
  },
  {
   "cell_type": "code",
   "execution_count": 135,
   "metadata": {},
   "outputs": [
    {
     "name": "stdout",
     "output_type": "stream",
     "text": [
      "24\n"
     ]
    }
   ],
   "source": [
    "print(d2[\"Anup\"])"
   ]
  },
  {
   "cell_type": "code",
   "execution_count": 136,
   "metadata": {},
   "outputs": [
    {
     "ename": "KeyError",
     "evalue": "'Jamal'",
     "output_type": "error",
     "traceback": [
      "\u001b[1;31m---------------------------------------------------------------------------\u001b[0m",
      "\u001b[1;31mKeyError\u001b[0m                                  Traceback (most recent call last)",
      "\u001b[1;32m<ipython-input-136-af9ca5d7ee89>\u001b[0m in \u001b[0;36m<module>\u001b[1;34m\u001b[0m\n\u001b[1;32m----> 1\u001b[1;33m \u001b[0mprint\u001b[0m\u001b[1;33m(\u001b[0m\u001b[0md2\u001b[0m\u001b[1;33m[\u001b[0m\u001b[1;34m\"Jamal\"\u001b[0m\u001b[1;33m]\u001b[0m\u001b[1;33m)\u001b[0m\u001b[1;33m\u001b[0m\u001b[1;33m\u001b[0m\u001b[0m\n\u001b[0m",
      "\u001b[1;31mKeyError\u001b[0m: 'Jamal'"
     ]
    }
   ],
   "source": [
    "print(d2[\"Jamal\"])"
   ]
  },
  {
   "cell_type": "markdown",
   "metadata": {},
   "source": [
    "#### Note: Values could be any type but Keys ca only be certain types. Mostly, keys are string or integers"
   ]
  },
  {
   "cell_type": "code",
   "execution_count": 137,
   "metadata": {},
   "outputs": [],
   "source": [
    "d[10]=100"
   ]
  },
  {
   "cell_type": "code",
   "execution_count": 138,
   "metadata": {},
   "outputs": [
    {
     "name": "stdout",
     "output_type": "stream",
     "text": [
      "100\n"
     ]
    }
   ],
   "source": [
    "print(d[10])"
   ]
  },
  {
   "cell_type": "code",
   "execution_count": 139,
   "metadata": {},
   "outputs": [
    {
     "data": {
      "text/plain": [
       "dict"
      ]
     },
     "execution_count": 139,
     "metadata": {},
     "output_type": "execute_result"
    }
   ],
   "source": [
    "type(d)"
   ]
  },
  {
   "cell_type": "code",
   "execution_count": 140,
   "metadata": {},
   "outputs": [
    {
     "data": {
      "text/plain": [
       "list"
      ]
     },
     "execution_count": 140,
     "metadata": {},
     "output_type": "execute_result"
    }
   ],
   "source": [
    "type(list1)"
   ]
  },
  {
   "cell_type": "code",
   "execution_count": 145,
   "metadata": {},
   "outputs": [
    {
     "name": "stdout",
     "output_type": "stream",
     "text": [
      "key: Jamal\n",
      "value: 100\n",
      "\n",
      "key: bilal\n",
      "value: 200\n",
      "\n",
      "key: nazmi\n",
      "value: 300\n",
      "\n",
      "key: 10\n",
      "value: 100\n",
      "\n"
     ]
    }
   ],
   "source": [
    "#how to iterate over a key-value pairs?\n",
    "for key, value in d.items():\n",
    "    print(\"key:\",key)\n",
    "    print(\"value:\",value)\n",
    "    print(\"\")"
   ]
  },
  {
   "cell_type": "markdown",
   "metadata": {},
   "source": [
    "# Classes and Objects with Python"
   ]
  },
  {
   "cell_type": "code",
   "execution_count": 23,
   "metadata": {},
   "outputs": [],
   "source": [
    "#class robot\n",
    "#objects\n",
    "#function introduce_self()\n",
    "\n",
    "class Robot:\n",
    "    def introduce_self(self):\n",
    "        print(\"My name is \" + self.name) #this in java\n",
    "\n"
   ]
  },
  {
   "cell_type": "code",
   "execution_count": 50,
   "metadata": {},
   "outputs": [
    {
     "name": "stdout",
     "output_type": "stream",
     "text": [
      "My name is Tom\n",
      "My name is Jerry\n"
     ]
    }
   ],
   "source": [
    "r1=Robot()\n",
    "r1.name=\"Tom\"\n",
    "r1.color=\"red\"\n",
    "r1.weight=30\n",
    "\n",
    "r2=Robot()\n",
    "r2.name=\"Jerry\"\n",
    "r2.color=\"blue\"\n",
    "r2.weight=40\n",
    "\n",
    "r1.introduce_self()\n",
    "r2.introduce_self()\n"
   ]
  },
  {
   "cell_type": "code",
   "execution_count": 48,
   "metadata": {},
   "outputs": [],
   "source": [
    "#Defining Constructor\n",
    "\n",
    "class Robot1:\n",
    "    #self needs to be added to every function in arguments\n",
    "    # __init__ is the name for constructor\n",
    "    def __init__(self, name, color, weight): \n",
    "        self.name=name\n",
    "        self.color=color\n",
    "        self.weight=weight\n",
    "    \n",
    "    def introduce(self):\n",
    "        print(\"My name is \"+ self.name + \".My color is \"+self.color+\"and my weight is \"\n",
    "              +str(self.weight))\n",
    "        \n",
    "#outside class\n",
    "r3=Robot1(\"Tom\",\"Blue\",30)\n",
    "r4=Robot1(\"Jerry\",\"Red\",40)"
   ]
  },
  {
   "cell_type": "code",
   "execution_count": 49,
   "metadata": {},
   "outputs": [
    {
     "name": "stdout",
     "output_type": "stream",
     "text": [
      "My name is Tom.My color is Blueand my weight is 30\n",
      "My name is Jerry.My color is Redand my weight is 40\n"
     ]
    }
   ],
   "source": [
    "r3.introduce()\n",
    "r4.introduce()"
   ]
  },
  {
   "cell_type": "code",
   "execution_count": 65,
   "metadata": {},
   "outputs": [],
   "source": [
    "'''\n",
    "#class Person:\n",
    "name\n",
    "personality\n",
    "is_sitting\n",
    "robotOwned\n",
    "sit_down()\n",
    "stand_up()\n",
    "\n",
    "#class Robot\n",
    "name\n",
    "color\n",
    "weight\n",
    "introduce_self()\n",
    "'''\n",
    "\n",
    "class Person:\n",
    "    def __init__(self,n,p,i):\n",
    "        self.name = n\n",
    "        self.personaliyt = p\n",
    "        self.is_sitting = i\n",
    "        \n",
    "    def sit_down(self):\n",
    "        is_sitting = True\n",
    "    \n",
    "    def stand_up(self):\n",
    "        is_sitting = False\n",
    "        \n",
    "\n",
    "class Robot3:\n",
    "    def __init__(self,name,color,weight):\n",
    "        self.name = name\n",
    "        self.color = color\n",
    "        self.weight = weight\n",
    "    \n",
    "    def introduce(self):\n",
    "        print(\"my name is \"+self.name)\n",
    "    \n",
    "\n",
    "    \n",
    "p1 = Person(\"A\",\"Aggressive\",False)\n",
    "p2 = Person(\"B\",\"Talkative\",True)\n",
    "\n",
    "R1 = Robot3(\"Tom\",\"Blue\",30)\n",
    "R2 = Robot3(\"Jerry\",\"Red\",20)\n",
    "\n",
    "p1.robot_owned = R2\n",
    "p2.robot_owned = R1"
   ]
  },
  {
   "cell_type": "code",
   "execution_count": 66,
   "metadata": {},
   "outputs": [
    {
     "name": "stdout",
     "output_type": "stream",
     "text": [
      "A\n",
      "my name is Jerry\n",
      "B\n",
      "my name is Tom\n"
     ]
    }
   ],
   "source": [
    "print(p1.name)\n",
    "p1.robot_owned.introduce()\n",
    "print(p2.name)\n",
    "p2.robot_owned.introduce()"
   ]
  },
  {
   "cell_type": "markdown",
   "metadata": {},
   "source": [
    "# Boolean in Python"
   ]
  },
  {
   "cell_type": "code",
   "execution_count": 70,
   "metadata": {},
   "outputs": [
    {
     "data": {
      "text/plain": [
       "str"
      ]
     },
     "execution_count": 70,
     "metadata": {},
     "output_type": "execute_result"
    }
   ],
   "source": [
    "type(\"microsoft\")"
   ]
  },
  {
   "cell_type": "code",
   "execution_count": 69,
   "metadata": {},
   "outputs": [
    {
     "data": {
      "text/plain": [
       "int"
      ]
     },
     "execution_count": 69,
     "metadata": {},
     "output_type": "execute_result"
    }
   ],
   "source": [
    "type(4)"
   ]
  },
  {
   "cell_type": "code",
   "execution_count": 71,
   "metadata": {},
   "outputs": [
    {
     "data": {
      "text/plain": [
       "float"
      ]
     },
     "execution_count": 71,
     "metadata": {},
     "output_type": "execute_result"
    }
   ],
   "source": [
    "type(3.5)"
   ]
  },
  {
   "cell_type": "code",
   "execution_count": 74,
   "metadata": {},
   "outputs": [
    {
     "data": {
      "text/plain": [
       "bool"
      ]
     },
     "execution_count": 74,
     "metadata": {},
     "output_type": "execute_result"
    }
   ],
   "source": [
    "type(True)"
   ]
  },
  {
   "cell_type": "code",
   "execution_count": 76,
   "metadata": {},
   "outputs": [
    {
     "name": "stdout",
     "output_type": "stream",
     "text": [
      "False\n"
     ]
    }
   ],
   "source": [
    "a=1\n",
    "b=3\n",
    "if a>b:\n",
    "    print(\"True\")\n",
    "else:\n",
    "    print(\"False\")"
   ]
  },
  {
   "cell_type": "code",
   "execution_count": 78,
   "metadata": {},
   "outputs": [
    {
     "name": "stdout",
     "output_type": "stream",
     "text": [
      "B is greater than A\n"
     ]
    }
   ],
   "source": [
    "if True:\n",
    "    print(\"A is greater than B\")"
   ]
  },
  {
   "cell_type": "code",
   "execution_count": 81,
   "metadata": {},
   "outputs": [],
   "source": [
    "boolean_value = a > b"
   ]
  },
  {
   "cell_type": "code",
   "execution_count": 82,
   "metadata": {},
   "outputs": [
    {
     "name": "stdout",
     "output_type": "stream",
     "text": [
      "False\n"
     ]
    }
   ],
   "source": [
    "print(boolean_value)"
   ]
  },
  {
   "cell_type": "code",
   "execution_count": 85,
   "metadata": {},
   "outputs": [
    {
     "name": "stdout",
     "output_type": "stream",
     "text": [
      "a < b\n"
     ]
    }
   ],
   "source": [
    "if boolean_value:\n",
    "    print(\"a > b\")\n",
    "else:\n",
    "    print(\"a < b\")"
   ]
  },
  {
   "cell_type": "code",
   "execution_count": 86,
   "metadata": {},
   "outputs": [],
   "source": [
    "def rain(is_rainy, has_umbrella):\n",
    "    if is_rainy and not has_umbrella:\n",
    "        return True\n",
    "    else:\n",
    "        return False\n",
    "    \n"
   ]
  },
  {
   "cell_type": "code",
   "execution_count": 88,
   "metadata": {},
   "outputs": [
    {
     "data": {
      "text/plain": [
       "True"
      ]
     },
     "execution_count": 88,
     "metadata": {},
     "output_type": "execute_result"
    }
   ],
   "source": [
    "rain(True,False)"
   ]
  },
  {
   "cell_type": "code",
   "execution_count": 89,
   "metadata": {},
   "outputs": [],
   "source": [
    "def c_greater_tahn_d_plus_e(c,d,e):\n",
    "    if c > (d+e):\n",
    "        return True\n",
    "    else:\n",
    "        return False"
   ]
  },
  {
   "cell_type": "code",
   "execution_count": 91,
   "metadata": {},
   "outputs": [
    {
     "data": {
      "text/plain": [
       "True"
      ]
     },
     "execution_count": 91,
     "metadata": {},
     "output_type": "execute_result"
    }
   ],
   "source": [
    "c_greater_tahn_d_plus_e(8,3,4)"
   ]
  },
  {
   "cell_type": "markdown",
   "metadata": {},
   "source": [
    "# List Comprehension"
   ]
  },
  {
   "cell_type": "code",
   "execution_count": 92,
   "metadata": {},
   "outputs": [],
   "source": [
    "a = [1,3,5,7,9,11]"
   ]
  },
  {
   "cell_type": "code",
   "execution_count": 95,
   "metadata": {},
   "outputs": [
    {
     "name": "stdout",
     "output_type": "stream",
     "text": [
      "[2, 6, 10, 14, 18, 22]\n"
     ]
    }
   ],
   "source": [
    "c =[]\n",
    "for x in a:\n",
    "    c.append(x*2)\n",
    "print(c)"
   ]
  },
  {
   "cell_type": "code",
   "execution_count": 97,
   "metadata": {},
   "outputs": [
    {
     "name": "stdout",
     "output_type": "stream",
     "text": [
      "[2, 6, 10, 14, 18, 22]\n"
     ]
    }
   ],
   "source": [
    "d = [x * 2 for x in a]\n",
    "print(d)"
   ]
  },
  {
   "cell_type": "code",
   "execution_count": 99,
   "metadata": {},
   "outputs": [
    {
     "name": "stdout",
     "output_type": "stream",
     "text": [
      "[1, 4, 9, 16, 25, 36]\n"
     ]
    }
   ],
   "source": [
    "e1=[]\n",
    "for x in range(1,7):\n",
    "    e1.append(x**2)\n",
    "print(e1)"
   ]
  },
  {
   "cell_type": "code",
   "execution_count": 101,
   "metadata": {},
   "outputs": [
    {
     "name": "stdout",
     "output_type": "stream",
     "text": [
      "[1, 4, 9, 16, 25, 36]\n"
     ]
    }
   ],
   "source": [
    "e2 = [x ** 2 for x in range(1,7)]\n",
    "print(e2)"
   ]
  },
  {
   "cell_type": "code",
   "execution_count": 107,
   "metadata": {},
   "outputs": [
    {
     "name": "stdout",
     "output_type": "stream",
     "text": [
      "6\n",
      "5\n",
      "4\n",
      "3\n",
      "2\n",
      "1\n"
     ]
    }
   ],
   "source": [
    "for x in range(6,0,-1):\n",
    "    print(x)"
   ]
  },
  {
   "cell_type": "code",
   "execution_count": 109,
   "metadata": {},
   "outputs": [
    {
     "name": "stdout",
     "output_type": "stream",
     "text": [
      "[36, 25, 16, 9, 4, 1]\n"
     ]
    }
   ],
   "source": [
    "f1=[]\n",
    "for x1 in range(6,0,-1):\n",
    "    f1.append(x1**2)\n",
    "print(f1)"
   ]
  },
  {
   "cell_type": "code",
   "execution_count": 112,
   "metadata": {},
   "outputs": [
    {
     "name": "stdout",
     "output_type": "stream",
     "text": [
      "[36, 25, 16, 9, 4, 1]\n"
     ]
    }
   ],
   "source": [
    "f2 = [x1 ** 2 for x1 in range(6,0,-1)]\n",
    "print(f2)"
   ]
  },
  {
   "cell_type": "markdown",
   "metadata": {},
   "source": [
    "# Set in python"
   ]
  },
  {
   "cell_type": "markdown",
   "metadata": {},
   "source": [
    "A set is a type of data which stores a unique  set of things.\n",
    "A python set rejects duplicate items"
   ]
  },
  {
   "cell_type": "code",
   "execution_count": 127,
   "metadata": {},
   "outputs": [
    {
     "name": "stdout",
     "output_type": "stream",
     "text": [
      "set()\n"
     ]
    }
   ],
   "source": [
    "#{1,3} <- 3\n",
    "#-> {1,3}\n",
    "#set keeps only unique values and sorts them\n",
    "\n",
    "a = set()\n",
    "print(a)"
   ]
  },
  {
   "cell_type": "code",
   "execution_count": 115,
   "metadata": {},
   "outputs": [],
   "source": [
    "a.add(1)"
   ]
  },
  {
   "cell_type": "code",
   "execution_count": 116,
   "metadata": {},
   "outputs": [
    {
     "name": "stdout",
     "output_type": "stream",
     "text": [
      "{1}\n"
     ]
    }
   ],
   "source": [
    "print(a)"
   ]
  },
  {
   "cell_type": "code",
   "execution_count": 117,
   "metadata": {},
   "outputs": [],
   "source": [
    "a.add(2)"
   ]
  },
  {
   "cell_type": "code",
   "execution_count": 118,
   "metadata": {},
   "outputs": [
    {
     "name": "stdout",
     "output_type": "stream",
     "text": [
      "{1, 2}\n"
     ]
    }
   ],
   "source": [
    "print(a)"
   ]
  },
  {
   "cell_type": "code",
   "execution_count": 119,
   "metadata": {},
   "outputs": [],
   "source": [
    "a.add(2)"
   ]
  },
  {
   "cell_type": "code",
   "execution_count": 120,
   "metadata": {},
   "outputs": [
    {
     "name": "stdout",
     "output_type": "stream",
     "text": [
      "{1, 2}\n"
     ]
    }
   ],
   "source": [
    "print(a)"
   ]
  },
  {
   "cell_type": "code",
   "execution_count": 121,
   "metadata": {},
   "outputs": [
    {
     "name": "stdout",
     "output_type": "stream",
     "text": [
      "1\n",
      "2\n"
     ]
    }
   ],
   "source": [
    "for x in a:\n",
    "    print(x)"
   ]
  },
  {
   "cell_type": "code",
   "execution_count": 126,
   "metadata": {},
   "outputs": [
    {
     "name": "stdout",
     "output_type": "stream",
     "text": [
      "{1, 2, 3, 4, 5, 6, 7, 8, 9}\n"
     ]
    }
   ],
   "source": [
    "list1 = [1,1,2,2,4,5,6,3,3,9,8,7,6]\n",
    "set1 =  set()\n",
    "for x in list1:\n",
    "    set1.add(x)\n",
    "print(set1)\n"
   ]
  },
  {
   "cell_type": "code",
   "execution_count": 132,
   "metadata": {},
   "outputs": [
    {
     "name": "stdout",
     "output_type": "stream",
     "text": [
      "{'banana', 'apple'}\n"
     ]
    }
   ],
   "source": [
    "set2 = set()\n",
    "set2.add(1)\n",
    "set2.add('apple')\n",
    "set2.add('banana')\n",
    "set2.add(2)\n",
    "print(set2)"
   ]
  },
  {
   "cell_type": "code",
   "execution_count": 134,
   "metadata": {},
   "outputs": [
    {
     "name": "stdout",
     "output_type": "stream",
     "text": [
      "{1, 3, 4}\n",
      "8\n"
     ]
    }
   ],
   "source": [
    "list3 = [1,3,4,1,3]\n",
    "set3 = set()\n",
    "total=0\n",
    "for x in list3:\n",
    "    set3.add(x)\n",
    "    #total+=x\n",
    "print(set3)\n",
    "for x in set3:\n",
    "    total+=x\n",
    "print(total)"
   ]
  },
  {
   "cell_type": "markdown",
   "metadata": {},
   "source": [
    "# CodingBat.com"
   ]
  },
  {
   "cell_type": "code",
   "execution_count": 11,
   "metadata": {},
   "outputs": [
    {
     "name": "stdout",
     "output_type": "stream",
     "text": [
      "True\n",
      "False\n",
      "True\n",
      "True\n"
     ]
    }
   ],
   "source": [
    "'''\n",
    "Warmup-1 > sleep_in \n",
    "prev  |  next  |  chance\n",
    "The parameter weekday is True if it is a weekday, and the parameter vacation is True if we are on vacation.\n",
    "We sleep in if it is not a weekday or we're on vacation. Return True if we sleep in.\n",
    "\n",
    "sleep_in(False, False) → True\n",
    "sleep_in(True, False) → False\n",
    "sleep_in(False, True) → True\n",
    "'''\n",
    "\n",
    "def sleep_in(weekday, vacation):\n",
    "  if not weekday or vacation:\n",
    "    return True\n",
    "  else:\n",
    "    return False\n",
    "\n",
    "\n",
    "print(sleep_in(False, False))\n",
    "print(sleep_in(True, False))\n",
    "print(sleep_in(False, True))\n",
    "print(sleep_in(True, True))"
   ]
  },
  {
   "cell_type": "code",
   "execution_count": 13,
   "metadata": {},
   "outputs": [
    {
     "name": "stdout",
     "output_type": "stream",
     "text": [
      "HiHiHiHi\n"
     ]
    }
   ],
   "source": [
    "'''\n",
    "Warmup-2 > string_times \n",
    "Given a string and a non-negative int n, return a larger string that is n copies of the original string.\n",
    "\n",
    "\n",
    "string_times('Hi', 2) → 'HiHi'\n",
    "string_times('Hi', 3) → 'HiHiHi'\n",
    "string_times('Hi', 1) → 'Hi'\n",
    "'''\n",
    "\n",
    "def string_times(str, n):\n",
    "  str2 = str * n\n",
    "  return str2\n",
    "\n",
    "\n",
    "print(string_times(\"Hi\", 4))\n"
   ]
  },
  {
   "cell_type": "code",
   "execution_count": 29,
   "metadata": {},
   "outputs": [],
   "source": [
    "list1 = [6,2,3,5,7,6,9]"
   ]
  },
  {
   "cell_type": "code",
   "execution_count": 30,
   "metadata": {},
   "outputs": [
    {
     "name": "stdout",
     "output_type": "stream",
     "text": [
      "True\n"
     ]
    }
   ],
   "source": [
    "if list1[0] == 6 or list1[len(list1)-1] == 6:\n",
    "    print(True)\n",
    "else:\n",
    "    print(False)"
   ]
  },
  {
   "cell_type": "code",
   "execution_count": 1,
   "metadata": {},
   "outputs": [
    {
     "name": "stdout",
     "output_type": "stream",
     "text": [
      "True\n",
      "False\n"
     ]
    }
   ],
   "source": [
    "'''\n",
    "List-1 > first_last6 \n",
    "Given an array of ints, return True if 6 appears as \n",
    "either the first or last element in the array. \n",
    "The array will be length 1 or more.\n",
    "\n",
    "\n",
    "first_last6([1, 2, 6]) → True\n",
    "first_last6([6, 1, 2, 3]) → True\n",
    "first_last6([13, 6, 1, 2, 3]) → False\n",
    "'''\n",
    "'''\n",
    "def first_last6(nums):\n",
    "  if nums[0] == 6 or nums[len(nums)-1]==6:\n",
    "    return True\n",
    "  else:\n",
    "    return False\n",
    "'''\n",
    "\n",
    "\n",
    "#alternative:\n",
    "def first_last6(nums):\n",
    "  if nums[0] == 6 or nums[-1]==6:\n",
    "    return True\n",
    "  else:\n",
    "    return False\n",
    "\n",
    "\n",
    "nums = [1,2,4,5,7,4,5,6]\n",
    "num2 = [1,2,4,5,7,4,5]\n",
    "\n",
    "\n",
    "print(first_last6(nums))\n",
    "print(first_last6(num2))"
   ]
  },
  {
   "cell_type": "code",
   "execution_count": 3,
   "metadata": {},
   "outputs": [
    {
     "name": "stdout",
     "output_type": "stream",
     "text": [
      "aabbcc\n"
     ]
    }
   ],
   "source": [
    "str1 = 'abc'\n",
    "str2 = ''\n",
    "for x in str1:\n",
    "    str2 = str2+(x*2)\n",
    "print(str2)"
   ]
  },
  {
   "cell_type": "markdown",
   "metadata": {},
   "source": [
    "# Python Strings"
   ]
  },
  {
   "cell_type": "code",
   "execution_count": 3,
   "metadata": {},
   "outputs": [
    {
     "name": "stdout",
     "output_type": "stream",
     "text": [
      "Hello World\n"
     ]
    }
   ],
   "source": [
    "var1 = \"Hello World\"\n",
    "print(var1)\n"
   ]
  },
  {
   "cell_type": "code",
   "execution_count": 21,
   "metadata": {},
   "outputs": [
    {
     "name": "stdout",
     "output_type": "stream",
     "text": [
      "H\n",
      "Hel\n",
      "Hel\n",
      "o Wo\n",
      "o World\n",
      "Hello World\n",
      "d\n",
      "Worl\n",
      "Hello Worl\n",
      "d\n"
     ]
    }
   ],
   "source": [
    "print(var1[0])\n",
    "print(var1[0:3])\n",
    "print(var1[:3])\n",
    "print(var1[4:8])\n",
    "print(var1[4:])\n",
    "print(var1[:])\n",
    "print(var1[-1])\n",
    "print(var1[6:-1])\n",
    "print(var1[:-1])\n",
    "print(var1[-1:])\n"
   ]
  },
  {
   "cell_type": "code",
   "execution_count": 28,
   "metadata": {},
   "outputs": [
    {
     "name": "stdout",
     "output_type": "stream",
     "text": [
      "jamal \n",
      " khan\n",
      "jamal \t khan\n",
      "jamal \u000b",
      " khan\n",
      "jamal \\e khan\n",
      "jamal \u0007 khan\n",
      "jamal \b khan\n"
     ]
    }
   ],
   "source": [
    "#escape characters\n",
    "print(\"jamal \\n khan\")\n",
    "print(\"jamal \\t khan\")\n",
    "print(\"jamal \\v khan\")\n",
    "#print(\"jamal \\x khan\")\n",
    "print(\"jamal \\e khan\")\n",
    "print(\"jamal \\a khan\")\n",
    "print(\"jamal \\b khan\")"
   ]
  },
  {
   "cell_type": "code",
   "execution_count": 43,
   "metadata": {},
   "outputs": [
    {
     "name": "stdout",
     "output_type": "stream",
     "text": [
      "found fox\n",
      "fox not found \n"
     ]
    }
   ],
   "source": [
    "#String operators\n",
    "str1 = \"The quick brown fox\"\n",
    "str2 = \" jumped over the lazy dog\"\n",
    "str3 = str1 + str2\n",
    "str3\n",
    "\n",
    "if \"fox\" in str3:\n",
    "    print(\"found fox\")\n",
    "    \n",
    "\n",
    "if \"fox\" not in str2:\n",
    "    print(\"fox not found \")\n",
    "else:\n",
    "    print(\"fox found again\")"
   ]
  },
  {
   "cell_type": "code",
   "execution_count": 45,
   "metadata": {},
   "outputs": [
    {
     "name": "stdout",
     "output_type": "stream",
     "text": [
      "jamal\n",
      "khan\n"
     ]
    }
   ],
   "source": [
    "print(\"jamal\" + \"\\n\" + \"khan\")"
   ]
  },
  {
   "cell_type": "code",
   "execution_count": null,
   "metadata": {},
   "outputs": [],
   "source": [
    "filename=\"C:\\Users\\mohammak\\Desktop\\code\\python\\schedule_parser\\test_Sched1.txt\"\n"
   ]
  },
  {
   "cell_type": "code",
   "execution_count": 4,
   "metadata": {},
   "outputs": [
    {
     "name": "stdout",
     "output_type": "stream",
     "text": [
      "HO\n"
     ]
    }
   ],
   "source": [
    "#codingbat\n",
    "#string_bits \n",
    "\n",
    "\n",
    "str1 = \"HLO\"\n",
    "\n",
    "s=\"\"\n",
    "\n",
    "for i in range(len(str1)):\n",
    "    if i%2 == 0:\n",
    "        s = s + str1[i]\n",
    "    \n",
    "print(s)\n"
   ]
  },
  {
   "cell_type": "code",
   "execution_count": 19,
   "metadata": {},
   "outputs": [
    {
     "name": "stdout",
     "output_type": "stream",
     "text": [
      "CCoCodCode\n"
     ]
    }
   ],
   "source": [
    "#codingbat\n",
    "#string_splosion \n",
    "\n",
    "str = \"Code\"\n",
    "result=\"\"\n",
    "for i in range(len(str)):\n",
    "    for j in range(i+1):\n",
    "        result=result+str[j]\n",
    "        \n",
    "print(result)"
   ]
  },
  {
   "cell_type": "code",
   "execution_count": 23,
   "metadata": {},
   "outputs": [
    {
     "name": "stdout",
     "output_type": "stream",
     "text": [
      "CCoCodCode\n"
     ]
    }
   ],
   "source": [
    "#alternative\n",
    "\n",
    "str = \"Code\"\n",
    "result=\"\"\n",
    "for i in range(len(str)):\n",
    "    result = result + str[:i+1]\n",
    "    \n",
    "print(result)"
   ]
  },
  {
   "cell_type": "code",
   "execution_count": 33,
   "metadata": {},
   "outputs": [
    {
     "name": "stdout",
     "output_type": "stream",
     "text": [
      "1\n",
      "1\n",
      "2\n"
     ]
    }
   ],
   "source": [
    "#last2\n",
    "\n",
    "def last2(str):\n",
    "    len_str= len(str)\n",
    "    lst = str[len_str-2:]\n",
    "    count = 0\n",
    "    for i in range(len_str -2):\n",
    "        if str[i:i+2] == lst:\n",
    "            count = count + 1\n",
    "    return count\n",
    "    \n",
    "print(last2('hixxhi'))\n",
    "print(last2('xaxxaxaxx'))\n",
    "print(last2('axxxaaxx'))"
   ]
  },
  {
   "cell_type": "code",
   "execution_count": 34,
   "metadata": {},
   "outputs": [
    {
     "name": "stdout",
     "output_type": "stream",
     "text": [
      "hibyebyehi\n"
     ]
    }
   ],
   "source": [
    "a=\"hi\"\n",
    "b=\"bye\"\n",
    "print(a+b+b+a)"
   ]
  },
  {
   "cell_type": "code",
   "execution_count": 36,
   "metadata": {},
   "outputs": [
    {
     "name": "stdout",
     "output_type": "stream",
     "text": [
      "<i>Yay</i>\n"
     ]
    }
   ],
   "source": [
    "#maketags\n",
    "tag=\"i\"\n",
    "word=\"Yay\"\n",
    "\n",
    "print(\"<\"+tag+\">\"+word+\"</\"+tag+\">\")"
   ]
  },
  {
   "cell_type": "code",
   "execution_count": 40,
   "metadata": {},
   "outputs": [
    {
     "name": "stdout",
     "output_type": "stream",
     "text": [
      "[[\n",
      "]]\n"
     ]
    }
   ],
   "source": [
    "out='[[]]'\n",
    "print(out[:2])\n",
    "print(out[2:])"
   ]
  },
  {
   "cell_type": "code",
   "execution_count": 46,
   "metadata": {},
   "outputs": [
    {
     "name": "stdout",
     "output_type": "stream",
     "text": [
      "an\n"
     ]
    }
   ],
   "source": [
    "word=\"jamalkhan\"\n",
    "print(word[-2:])"
   ]
  },
  {
   "cell_type": "code",
   "execution_count": 49,
   "metadata": {},
   "outputs": [
    {
     "name": "stdout",
     "output_type": "stream",
     "text": [
      "\n",
      "ja\n"
     ]
    }
   ],
   "source": [
    "a=\"\"\n",
    "print(a[:2])\n",
    "\n",
    "b=\"jamal\"\n",
    "print(b[:2])"
   ]
  },
  {
   "cell_type": "code",
   "execution_count": 57,
   "metadata": {},
   "outputs": [
    {
     "name": "stdout",
     "output_type": "stream",
     "text": [
      "mjama\n"
     ]
    }
   ],
   "source": [
    "c=\"mjamalkhan\"\n",
    "hl=int((len(c)/2))\n",
    "print (c[0:hl])"
   ]
  },
  {
   "cell_type": "code",
   "execution_count": null,
   "metadata": {},
   "outputs": [],
   "source": []
  }
 ],
 "metadata": {
  "kernelspec": {
   "display_name": "Python 3",
   "language": "python",
   "name": "python3"
  },
  "language_info": {
   "codemirror_mode": {
    "name": "ipython",
    "version": 3
   },
   "file_extension": ".py",
   "mimetype": "text/x-python",
   "name": "python",
   "nbconvert_exporter": "python",
   "pygments_lexer": "ipython3",
   "version": "3.7.1"
  }
 },
 "nbformat": 4,
 "nbformat_minor": 2
}
