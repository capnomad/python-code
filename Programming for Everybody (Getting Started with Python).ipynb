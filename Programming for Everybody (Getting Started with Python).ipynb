{
 "cells": [
  {
   "cell_type": "markdown",
   "metadata": {},
   "source": [
    "# Course 1 :  Programming for Everybody (Getting Started with Python) - 05/22"
   ]
  },
  {
   "cell_type": "code",
   "execution_count": 2,
   "metadata": {},
   "outputs": [
    {
     "ename": "ValueError",
     "evalue": "invalid literal for int() with base 10: 'hello Bob'",
     "output_type": "error",
     "traceback": [
      "\u001b[1;31m---------------------------------------------------------------------------\u001b[0m",
      "\u001b[1;31mValueError\u001b[0m                                Traceback (most recent call last)",
      "\u001b[1;32m<ipython-input-2-2e3688044c18>\u001b[0m in \u001b[0;36m<module>\u001b[1;34m\u001b[0m\n\u001b[0;32m      2\u001b[0m \u001b[1;33m\u001b[0m\u001b[0m\n\u001b[0;32m      3\u001b[0m \u001b[0ma\u001b[0m \u001b[1;33m=\u001b[0m \u001b[1;34m'hello Bob'\u001b[0m\u001b[1;33m\u001b[0m\u001b[1;33m\u001b[0m\u001b[0m\n\u001b[1;32m----> 4\u001b[1;33m \u001b[0mb\u001b[0m \u001b[1;33m=\u001b[0m \u001b[0mint\u001b[0m\u001b[1;33m(\u001b[0m\u001b[0ma\u001b[0m\u001b[1;33m)\u001b[0m\u001b[1;33m\u001b[0m\u001b[1;33m\u001b[0m\u001b[0m\n\u001b[0m\u001b[0;32m      5\u001b[0m \u001b[1;33m\u001b[0m\u001b[0m\n\u001b[0;32m      6\u001b[0m \u001b[0mprint\u001b[0m\u001b[1;33m(\u001b[0m\u001b[1;34m'first'\u001b[0m\u001b[1;33m,\u001b[0m\u001b[0mb\u001b[0m\u001b[1;33m)\u001b[0m\u001b[1;33m\u001b[0m\u001b[1;33m\u001b[0m\u001b[0m\n",
      "\u001b[1;31mValueError\u001b[0m: invalid literal for int() with base 10: 'hello Bob'"
     ]
    }
   ],
   "source": [
    "#try/except block : for catching exceptions\n",
    "\n",
    "a = 'hello Bob'\n",
    "b = int(a)\n",
    "\n",
    "print('first',b)"
   ]
  },
  {
   "cell_type": "code",
   "execution_count": 4,
   "metadata": {},
   "outputs": [
    {
     "name": "stdout",
     "output_type": "stream",
     "text": [
      "first -1\n",
      "second 123\n"
     ]
    }
   ],
   "source": [
    "a = 'hello Bob'\n",
    "try:\n",
    "    b = int(a)\n",
    "except:\n",
    "    b = -1\n",
    "print('first',b)\n",
    "    \n",
    "a = '123'\n",
    "try:\n",
    "    b = int(a)\n",
    "except:\n",
    "    b = -1\n",
    "\n",
    "print('second',b)"
   ]
  },
  {
   "cell_type": "code",
   "execution_count": 6,
   "metadata": {},
   "outputs": [
    {
     "name": "stdout",
     "output_type": "stream",
     "text": [
      "Enter a number:45\n",
      "Nice work\n"
     ]
    }
   ],
   "source": [
    "raw = input(\"Enter a number:\")\n",
    "try:\n",
    "    val = int(raw)\n",
    "except:\n",
    "    val = -1\n",
    "    \n",
    "if val > 0 :\n",
    "    print(\"Nice work\")\n",
    "else:\n",
    "    print(\"Not a number\")"
   ]
  },
  {
   "cell_type": "code",
   "execution_count": 7,
   "metadata": {},
   "outputs": [
    {
     "name": "stdout",
     "output_type": "stream",
     "text": [
      "Small\n",
      "All done\n"
     ]
    }
   ],
   "source": [
    "x = 0\n",
    "if x < 2 :\n",
    "    print('Small')\n",
    "elif x < 10 :\n",
    "    print('Medium')\n",
    "else :\n",
    "    print('LARGE')\n",
    "print('All done')"
   ]
  },
  {
   "cell_type": "code",
   "execution_count": 10,
   "metadata": {},
   "outputs": [
    {
     "name": "stdout",
     "output_type": "stream",
     "text": [
      "Below 2\n"
     ]
    }
   ],
   "source": [
    "x = -22\n",
    "if x < 2 :\n",
    "    print('Below 2')\n",
    "elif x >= 2 :\n",
    "     print('Two or more')\n",
    "else :\n",
    "    print('Something else')"
   ]
  },
  {
   "cell_type": "code",
   "execution_count": 11,
   "metadata": {},
   "outputs": [
    {
     "ename": "ValueError",
     "evalue": "invalid literal for int() with base 10: 'Hello Bob'",
     "output_type": "error",
     "traceback": [
      "\u001b[1;31m---------------------------------------------------------------------------\u001b[0m",
      "\u001b[1;31mValueError\u001b[0m                                Traceback (most recent call last)",
      "\u001b[1;32m<ipython-input-11-a96d2ddd189b>\u001b[0m in \u001b[0;36m<module>\u001b[1;34m\u001b[0m\n\u001b[0;32m      1\u001b[0m \u001b[0mastr\u001b[0m \u001b[1;33m=\u001b[0m \u001b[1;34m'Hello Bob'\u001b[0m\u001b[1;33m\u001b[0m\u001b[1;33m\u001b[0m\u001b[0m\n\u001b[1;32m----> 2\u001b[1;33m \u001b[0mistr\u001b[0m \u001b[1;33m=\u001b[0m \u001b[0mint\u001b[0m\u001b[1;33m(\u001b[0m\u001b[0mastr\u001b[0m\u001b[1;33m)\u001b[0m\u001b[1;33m\u001b[0m\u001b[1;33m\u001b[0m\u001b[0m\n\u001b[0m\u001b[0;32m      3\u001b[0m \u001b[0mprint\u001b[0m\u001b[1;33m(\u001b[0m\u001b[1;34m'First'\u001b[0m\u001b[1;33m,\u001b[0m \u001b[0mistr\u001b[0m\u001b[1;33m)\u001b[0m\u001b[1;33m\u001b[0m\u001b[1;33m\u001b[0m\u001b[0m\n\u001b[0;32m      4\u001b[0m \u001b[0mastr\u001b[0m \u001b[1;33m=\u001b[0m \u001b[1;34m'123'\u001b[0m\u001b[1;33m\u001b[0m\u001b[1;33m\u001b[0m\u001b[0m\n\u001b[0;32m      5\u001b[0m \u001b[0mistr\u001b[0m \u001b[1;33m=\u001b[0m \u001b[0mint\u001b[0m\u001b[1;33m(\u001b[0m\u001b[0mastr\u001b[0m\u001b[1;33m)\u001b[0m\u001b[1;33m\u001b[0m\u001b[1;33m\u001b[0m\u001b[0m\n",
      "\u001b[1;31mValueError\u001b[0m: invalid literal for int() with base 10: 'Hello Bob'"
     ]
    }
   ],
   "source": [
    "astr = 'Hello Bob'\n",
    "istr = int(astr)\n",
    "print('First', istr)\n",
    "astr = '123'\n",
    "istr = int(astr)\n",
    "print('Second', istr)"
   ]
  },
  {
   "cell_type": "code",
   "execution_count": 13,
   "metadata": {},
   "outputs": [
    {
     "name": "stdout",
     "output_type": "stream",
     "text": [
      "-1\n"
     ]
    }
   ],
   "source": [
    "astr = 'Hello Bob'\n",
    "istr = 0\n",
    "try:\n",
    "    istr = int(astr)\n",
    "except:\n",
    "    istr = -1\n",
    "print(istr)"
   ]
  },
  {
   "cell_type": "code",
   "execution_count": 14,
   "metadata": {},
   "outputs": [
    {
     "ename": "SyntaxError",
     "evalue": "invalid syntax (<ipython-input-14-68e0760e363f>, line 1)",
     "output_type": "error",
     "traceback": [
      "\u001b[1;36m  File \u001b[1;32m\"<ipython-input-14-68e0760e363f>\"\u001b[1;36m, line \u001b[1;32m1\u001b[0m\n\u001b[1;33m    (1)   astr = 'Hello Bob'\u001b[0m\n\u001b[1;37m             ^\u001b[0m\n\u001b[1;31mSyntaxError\u001b[0m\u001b[1;31m:\u001b[0m invalid syntax\n"
     ]
    }
   ],
   "source": [
    "(1)   astr = 'Hello Bob'\n",
    "(2)   istr = int(astr)\n",
    "(3)   print('First', istr)\n",
    "(4)   astr = '123'\n",
    "(5)   istr = int(astr)\n",
    "(6)   print('Second', istr)"
   ]
  },
  {
   "cell_type": "code",
   "execution_count": 17,
   "metadata": {},
   "outputs": [
    {
     "name": "stdout",
     "output_type": "stream",
     "text": [
      "Enter Hours:45\n",
      "Enter rate:10.5\n",
      "45.0\n",
      "5.0\n",
      "498.75\n"
     ]
    }
   ],
   "source": [
    "hrs = input(\"Enter Hours:\")\n",
    "h = float(hrs)\n",
    "rate = input(\"Enter rate:\")\n",
    "r = float(rate)\n",
    "\n",
    "if h > 40:\n",
    "    h2 = h - 40\n",
    "\n",
    "print(h)\n",
    "print(h2)    \n",
    "pay = (40 * r) + (h2 * r * 1.5)\n",
    "\n",
    "print(pay)"
   ]
  },
  {
   "cell_type": "code",
   "execution_count": 21,
   "metadata": {},
   "outputs": [
    {
     "name": "stdout",
     "output_type": "stream",
     "text": [
      "Hello\n",
      "Fun\n",
      "zip\n",
      "Hello\n",
      "Fun\n"
     ]
    },
    {
     "data": {
      "text/plain": [
       "5"
      ]
     },
     "execution_count": 21,
     "metadata": {},
     "output_type": "execute_result"
    }
   ],
   "source": [
    "#functions\n",
    "\n",
    "def thing():\n",
    "    print(\"Hello\")\n",
    "    print('Fun')\n",
    "    return 5\n",
    "\n",
    "thing()\n",
    "print('zip')\n",
    "thing()"
   ]
  },
  {
   "cell_type": "code",
   "execution_count": 22,
   "metadata": {},
   "outputs": [
    {
     "name": "stdout",
     "output_type": "stream",
     "text": [
      "Hello\n",
      "Fun\n",
      "5\n"
     ]
    }
   ],
   "source": [
    "x=thing()\n",
    "print(x)"
   ]
  },
  {
   "cell_type": "code",
   "execution_count": 27,
   "metadata": {},
   "outputs": [
    {
     "name": "stdout",
     "output_type": "stream",
     "text": [
      "n\n",
      " \n"
     ]
    }
   ],
   "source": [
    "big = max('jamal khan')\n",
    "small = min('jamal khan')\n",
    "print(big)\n",
    "print(small)"
   ]
  },
  {
   "cell_type": "code",
   "execution_count": 28,
   "metadata": {},
   "outputs": [
    {
     "name": "stdout",
     "output_type": "stream",
     "text": [
      "Hello\n"
     ]
    }
   ],
   "source": [
    "def stuff():\n",
    "    print('Hello')\n",
    "    return\n",
    "    print('World')\n",
    "\n",
    "stuff()"
   ]
  },
  {
   "cell_type": "code",
   "execution_count": 29,
   "metadata": {},
   "outputs": [
    {
     "name": "stdout",
     "output_type": "stream",
     "text": [
      "Bonjour Michael\n"
     ]
    }
   ],
   "source": [
    "def greet(lang):\n",
    "    if lang == 'es':\n",
    "        return 'Hola'\n",
    "    elif lang == 'fr':\n",
    "        return 'Bonjour'\n",
    "    else:\n",
    "        return 'Hello'\n",
    "\n",
    "print(greet('fr'),'Michael')"
   ]
  },
  {
   "cell_type": "code",
   "execution_count": 30,
   "metadata": {},
   "outputs": [
    {
     "name": "stdout",
     "output_type": "stream",
     "text": [
      "2\n"
     ]
    }
   ],
   "source": [
    "def addtwo(a, b):\n",
    "    added = a + b\n",
    "    return a\n",
    "\n",
    "x = addtwo(2, 7)\n",
    "print(x)"
   ]
  },
  {
   "cell_type": "code",
   "execution_count": 33,
   "metadata": {},
   "outputs": [
    {
     "name": "stdout",
     "output_type": "stream",
     "text": [
      "Enter Hours:45\n",
      "Enter Rate:10.5\n",
      "Pay 498.75\n"
     ]
    }
   ],
   "source": [
    " "
   ]
  },
  {
   "cell_type": "code",
   "execution_count": 2,
   "metadata": {},
   "outputs": [
    {
     "name": "stdout",
     "output_type": "stream",
     "text": [
      "5\n",
      "4\n",
      "3\n",
      "2\n",
      "1\n",
      "0\n",
      "-1\n"
     ]
    }
   ],
   "source": [
    "#loops\n",
    "\n",
    "n=5\n",
    "while n >= 0 :\n",
    "    print(n)\n",
    "    n = n-1\n",
    "print(n)"
   ]
  },
  {
   "cell_type": "code",
   "execution_count": 1,
   "metadata": {},
   "outputs": [
    {
     "name": "stdout",
     "output_type": "stream",
     "text": [
      "loop\n",
      "loop\n",
      "loop\n",
      "loop\n",
      "loop\n",
      "loop\n"
     ]
    }
   ],
   "source": [
    "n2 = 5\n",
    "while n2 >= 0:\n",
    "    print(\"loop\")\n",
    "    n2=n2-1\n"
   ]
  },
  {
   "cell_type": "code",
   "execution_count": 3,
   "metadata": {},
   "outputs": [
    {
     "name": "stdout",
     "output_type": "stream",
     "text": [
      ">jamal\n",
      "jamal\n",
      ">khan\n",
      "khan\n",
      ">done\n",
      "Done\n"
     ]
    }
   ],
   "source": [
    "while True:\n",
    "    line = input('> ')\n",
    "    if line  == 'done':\n",
    "        break\n",
    "    print(line)\n",
    "print('Done')\n",
    "        "
   ]
  },
  {
   "cell_type": "code",
   "execution_count": 5,
   "metadata": {},
   "outputs": [
    {
     "name": "stdout",
     "output_type": "stream",
     "text": [
      "> #\n",
      "> #\n",
      "> #\n",
      "> jamal\n",
      "jamal\n",
      "> khan\n",
      "khan\n",
      "> #\n",
      "> \n"
     ]
    },
    {
     "ename": "IndexError",
     "evalue": "string index out of range",
     "output_type": "error",
     "traceback": [
      "\u001b[1;31m---------------------------------------------------------------------------\u001b[0m",
      "\u001b[1;31mIndexError\u001b[0m                                Traceback (most recent call last)",
      "\u001b[1;32m<ipython-input-5-ad925c30e466>\u001b[0m in \u001b[0;36m<module>\u001b[1;34m\u001b[0m\n\u001b[0;32m      1\u001b[0m \u001b[1;32mwhile\u001b[0m \u001b[1;32mTrue\u001b[0m\u001b[1;33m:\u001b[0m\u001b[1;33m\u001b[0m\u001b[1;33m\u001b[0m\u001b[0m\n\u001b[0;32m      2\u001b[0m     \u001b[0mline\u001b[0m \u001b[1;33m=\u001b[0m \u001b[0minput\u001b[0m\u001b[1;33m(\u001b[0m\u001b[1;34m'> '\u001b[0m\u001b[1;33m)\u001b[0m\u001b[1;33m\u001b[0m\u001b[1;33m\u001b[0m\u001b[0m\n\u001b[1;32m----> 3\u001b[1;33m     \u001b[1;32mif\u001b[0m \u001b[0mline\u001b[0m\u001b[1;33m[\u001b[0m\u001b[1;36m0\u001b[0m\u001b[1;33m]\u001b[0m \u001b[1;33m==\u001b[0m \u001b[1;34m'#'\u001b[0m\u001b[1;33m:\u001b[0m\u001b[1;33m\u001b[0m\u001b[1;33m\u001b[0m\u001b[0m\n\u001b[0m\u001b[0;32m      4\u001b[0m         \u001b[1;32mcontinue\u001b[0m\u001b[1;33m\u001b[0m\u001b[1;33m\u001b[0m\u001b[0m\n\u001b[0;32m      5\u001b[0m     \u001b[1;32mif\u001b[0m \u001b[0mline\u001b[0m\u001b[1;33m[\u001b[0m\u001b[1;36m0\u001b[0m\u001b[1;33m]\u001b[0m \u001b[1;33m==\u001b[0m \u001b[1;34m'done'\u001b[0m\u001b[1;33m:\u001b[0m\u001b[1;33m\u001b[0m\u001b[1;33m\u001b[0m\u001b[0m\n",
      "\u001b[1;31mIndexError\u001b[0m: string index out of range"
     ]
    }
   ],
   "source": [
    "while True:\n",
    "    line = input('> ')\n",
    "    if line[0] == '#':\n",
    "        continue\n",
    "    if line[0] == 'done':\n",
    "        break\n",
    "    print(line)\n",
    "print('Done')\n",
    "        "
   ]
  },
  {
   "cell_type": "code",
   "execution_count": 6,
   "metadata": {},
   "outputs": [
    {
     "name": "stdout",
     "output_type": "stream",
     "text": [
      "5\n",
      "4\n",
      "3\n",
      "2\n",
      "1\n"
     ]
    }
   ],
   "source": [
    "#For\n",
    "for i in [5,4,3,2,1]:\n",
    "    print(i)"
   ]
  },
  {
   "cell_type": "code",
   "execution_count": 10,
   "metadata": {},
   "outputs": [
    {
     "name": "stdout",
     "output_type": "stream",
     "text": [
      "hifzan\n",
      "umar\n",
      "anup\n",
      "nalin\n",
      "ankit\n",
      "harshit\n",
      "done\n"
     ]
    }
   ],
   "source": [
    "friends=['hifzan', 'umar', 'anup', 'nalin', 'ankit', 'harshit']\n",
    "for friend in friends:\n",
    "    print(friend)\n",
    "print('done')"
   ]
  },
  {
   "cell_type": "code",
   "execution_count": 35,
   "metadata": {},
   "outputs": [
    {
     "name": "stdout",
     "output_type": "stream",
     "text": [
      "largest: 754\n",
      "smallest -5\n"
     ]
    }
   ],
   "source": [
    "#largest number\n",
    "#Note: Negative numbers \n",
    "a = [-5,2,5,78,43,4,745,234,-2,7,6,43,76,8,4,4,754,43,547]\n",
    "largest = a[0]\n",
    "for x in a:\n",
    "    if x > largest:\n",
    "        largest = x\n",
    "print('largest:',largest)\n",
    "\n",
    "#smallest value\n",
    "a = [-5,2,5,78,43,4,745,234,-2,7,6,43,76,8,4,4,754,43,547]\n",
    "smallest = a[0]\n",
    "for x in a:\n",
    "    if x < smallest:\n",
    "        smallest = x\n",
    "print('smallest',smallest)\n"
   ]
  },
  {
   "cell_type": "code",
   "execution_count": 3,
   "metadata": {},
   "outputs": [
    {
     "name": "stdout",
     "output_type": "stream",
     "text": [
      "largest: 754\n",
      "smallest -5\n"
     ]
    }
   ],
   "source": [
    "'''largest number with None'''\n",
    "a = [-5,2,5,78,43,4,745,234,-2,7,6,43,76,8,4,4,754,43,547]\n",
    "largest = a[0]\n",
    "for x in a:\n",
    "    if largest is None:\n",
    "        largest = x\n",
    "    elif x > largest:\n",
    "        largest = x\n",
    "print('largest:',largest)\n",
    "\n",
    "\n",
    "'''smallest value with None'''\n",
    "a = [-5,2,5,78,43,4,745,234,-2,7,6,43,76,8,4,4,754,43,547]\n",
    "smallest = a[0]\n",
    "for x in a:\n",
    "    if smallest is None:\n",
    "        smallest = x\n",
    "    elif x < smallest:\n",
    "        smallest = x\n",
    "print('smallest',smallest)"
   ]
  },
  {
   "cell_type": "code",
   "execution_count": 22,
   "metadata": {},
   "outputs": [
    {
     "name": "stdout",
     "output_type": "stream",
     "text": [
      "754\n"
     ]
    }
   ],
   "source": [
    "#max without a loop\n",
    "def MAX2(a,b):\n",
    "    if a > b:\n",
    "        return a\n",
    "    else:\n",
    "        return b\n",
    "\n",
    "def max1(a,n):\n",
    "    if n == 1:\n",
    "        return a[0]\n",
    "    else:\n",
    "        return MAX2(a[n-1],max1(a,n-1))\n",
    "    \n",
    "a=[2,5,78,43,4,745,234,7,6,43,76,8,4,4,754,43,547]\n",
    "n = len(a)\n",
    "big = max1(a,n)\n",
    "print(big)"
   ]
  },
  {
   "cell_type": "code",
   "execution_count": 26,
   "metadata": {},
   "outputs": [
    {
     "data": {
      "text/plain": [
       "'Sample questions'"
      ]
     },
     "execution_count": 26,
     "metadata": {},
     "output_type": "execute_result"
    }
   ],
   "source": [
    "'''Sample questions'''\n",
    "#print all elements\n",
    "#find sum\n",
    "#find average\n",
    "#filtering in a loop\n",
    "#smallest value\n"
   ]
  },
  {
   "cell_type": "code",
   "execution_count": 37,
   "metadata": {},
   "outputs": [
    {
     "name": "stdout",
     "output_type": "stream",
     "text": [
      "-1\n"
     ]
    }
   ],
   "source": [
    "smallest_so_far = -1\n",
    "for the_num in [9, 41, 12, 3, 74, 15] :\n",
    "   if the_num < smallest_so_far :\n",
    "      smallest_so_far = the_num\n",
    "print(smallest_so_far)"
   ]
  },
  {
   "cell_type": "code",
   "execution_count": 6,
   "metadata": {},
   "outputs": [
    {
     "name": "stdout",
     "output_type": "stream",
     "text": [
      "Enter a number: 7\n",
      "Enter a number: 2\n",
      "Enter a number: bob\n",
      "Invalid input\n",
      "Enter a number: 10\n",
      "Enter a number: 4\n",
      "Enter a number: done\n"
     ]
    },
    {
     "ename": "TypeError",
     "evalue": "cannot unpack non-iterable int object",
     "output_type": "error",
     "traceback": [
      "\u001b[1;31m---------------------------------------------------------------------------\u001b[0m",
      "\u001b[1;31mTypeError\u001b[0m                                 Traceback (most recent call last)",
      "\u001b[1;32m<ipython-input-6-5283cd28c8b0>\u001b[0m in \u001b[0;36m<module>\u001b[1;34m\u001b[0m\n\u001b[0;32m     30\u001b[0m         \u001b[0msmallest\u001b[0m \u001b[1;33m=\u001b[0m \u001b[0mx\u001b[0m\u001b[1;33m\u001b[0m\u001b[1;33m\u001b[0m\u001b[0m\n\u001b[0;32m     31\u001b[0m  '''   \n\u001b[1;32m---> 32\u001b[1;33m \u001b[1;32mfor\u001b[0m \u001b[0mx\u001b[0m\u001b[1;33m,\u001b[0m\u001b[0my\u001b[0m \u001b[1;32min\u001b[0m \u001b[0ma\u001b[0m\u001b[1;33m:\u001b[0m\u001b[1;33m\u001b[0m\u001b[1;33m\u001b[0m\u001b[0m\n\u001b[0m\u001b[0;32m     33\u001b[0m     \u001b[1;32mif\u001b[0m \u001b[0msmallest\u001b[0m \u001b[1;32mis\u001b[0m \u001b[1;32mNone\u001b[0m\u001b[1;33m:\u001b[0m\u001b[1;33m\u001b[0m\u001b[1;33m\u001b[0m\u001b[0m\n\u001b[0;32m     34\u001b[0m         \u001b[0msmallest\u001b[0m \u001b[1;33m=\u001b[0m \u001b[0mx\u001b[0m\u001b[1;33m\u001b[0m\u001b[1;33m\u001b[0m\u001b[0m\n",
      "\u001b[1;31mTypeError\u001b[0m: cannot unpack non-iterable int object"
     ]
    }
   ],
   "source": [
    "largest = None\n",
    "smallest = None\n",
    "num = None\n",
    "a = []\n",
    "\n",
    "\n",
    "while True:\n",
    "    num = input(\"Enter a number: \")\n",
    "    if num ==  'done':\n",
    "        break\n",
    "    else:\n",
    "        try:\n",
    "            num= int(num)\n",
    "            a.append(num)\n",
    "        except:\n",
    "            print(\"Invalid input\")\n",
    "            continue\n",
    "    \n",
    "\n",
    "for x in a:\n",
    "    if largest is None:\n",
    "        largest = x\n",
    "    elif x > largest:\n",
    "        largest = x\n",
    "\n",
    "for x in a:\n",
    "    if smallest is None:\n",
    "        smallest = x\n",
    "    elif x < smallest:\n",
    "        smallest = x\n",
    "\n",
    "    \n",
    "\n",
    "print(\"Maximum is\", largest)\n",
    "print(\"Minimum is\", smallest)"
   ]
  },
  {
   "cell_type": "code",
   "execution_count": 7,
   "metadata": {},
   "outputs": [
    {
     "name": "stdout",
     "output_type": "stream",
     "text": [
      "Hellothere\n"
     ]
    }
   ],
   "source": [
    "str1 = \"Hello\"\n",
    "str2 = 'there'\n",
    "bob = str1 + str2\n",
    "print(bob)"
   ]
  },
  {
   "cell_type": "code",
   "execution_count": 8,
   "metadata": {},
   "outputs": [
    {
     "name": "stdout",
     "output_type": "stream",
     "text": [
      "42\n"
     ]
    }
   ],
   "source": [
    "x = '40'\n",
    "y = int(x) + 2\n",
    "print(y)"
   ]
  },
  {
   "cell_type": "code",
   "execution_count": 10,
   "metadata": {},
   "outputs": [
    {
     "name": "stdout",
     "output_type": "stream",
     "text": [
      "q\n"
     ]
    }
   ],
   "source": [
    "x = 'From marquard@uct.ac.za'\n",
    "print(x[8])"
   ]
  },
  {
   "cell_type": "code",
   "execution_count": 14,
   "metadata": {},
   "outputs": [
    {
     "name": "stdout",
     "output_type": "stream",
     "text": [
      "\n"
     ]
    }
   ],
   "source": [
    "x = 'From marquard@uct.ac.za'\n",
    "print(x[14:4])"
   ]
  },
  {
   "cell_type": "code",
   "execution_count": 15,
   "metadata": {},
   "outputs": [
    {
     "name": "stdout",
     "output_type": "stream",
     "text": [
      "b\n",
      "a\n",
      "n\n",
      "a\n",
      "n\n",
      "a\n"
     ]
    }
   ],
   "source": [
    "for letter in 'banana' :\n",
    "    print(letter)"
   ]
  },
  {
   "cell_type": "code",
   "execution_count": 16,
   "metadata": {},
   "outputs": [
    {
     "name": "stdout",
     "output_type": "stream",
     "text": [
      "42\n"
     ]
    }
   ],
   "source": [
    "print(len('banana')*7)"
   ]
  },
  {
   "cell_type": "code",
   "execution_count": 18,
   "metadata": {},
   "outputs": [
    {
     "name": "stdout",
     "output_type": "stream",
     "text": [
      "HELLO BOB\n"
     ]
    }
   ],
   "source": [
    "greet = 'Hello Bob'\n",
    "print(greet.upper())"
   ]
  },
  {
   "cell_type": "code",
   "execution_count": 20,
   "metadata": {},
   "outputs": [
    {
     "data": {
      "text/plain": [
       "['Hello', 'Bob']"
      ]
     },
     "execution_count": 20,
     "metadata": {},
     "output_type": "execute_result"
    }
   ],
   "source": [
    "greet.split()"
   ]
  },
  {
   "cell_type": "code",
   "execution_count": 22,
   "metadata": {},
   "outputs": [
    {
     "data": {
      "text/plain": [
       "'jHello BobaHello BobmHello BobaHello Bobl'"
      ]
     },
     "execution_count": 22,
     "metadata": {},
     "output_type": "execute_result"
    }
   ],
   "source": [
    "greet.join('jamal')"
   ]
  },
  {
   "cell_type": "code",
   "execution_count": 26,
   "metadata": {},
   "outputs": [
    {
     "data": {
      "text/plain": [
       "True"
      ]
     },
     "execution_count": 26,
     "metadata": {},
     "output_type": "execute_result"
    }
   ],
   "source": [
    "greet.startswith('H')"
   ]
  },
  {
   "cell_type": "code",
   "execution_count": 27,
   "metadata": {},
   "outputs": [
    {
     "name": "stdout",
     "output_type": "stream",
     "text": [
      ".ma\n"
     ]
    }
   ],
   "source": [
    "data = 'From stephen.marquard@uct.ac.za Sat Jan  5 09:14:16 2008'\n",
    "pos = data.find('.')\n",
    "print(data[pos:pos+3])"
   ]
  },
  {
   "cell_type": "code",
   "execution_count": 28,
   "metadata": {},
   "outputs": [
    {
     "data": {
      "text/plain": [
       "'Hello Bob'"
      ]
     },
     "execution_count": 28,
     "metadata": {},
     "output_type": "execute_result"
    }
   ],
   "source": [
    "greet.strip()"
   ]
  },
  {
   "cell_type": "code",
   "execution_count": 29,
   "metadata": {},
   "outputs": [],
   "source": [
    "greet = ' hello bob      '"
   ]
  },
  {
   "cell_type": "code",
   "execution_count": 30,
   "metadata": {},
   "outputs": [
    {
     "data": {
      "text/plain": [
       "'hello bob'"
      ]
     },
     "execution_count": 30,
     "metadata": {},
     "output_type": "execute_result"
    }
   ],
   "source": [
    "greet.strip()"
   ]
  },
  {
   "cell_type": "markdown",
   "metadata": {},
   "source": [
    "# Course 2 : Python Data Structures - 05/29"
   ]
  },
  {
   "cell_type": "markdown",
   "metadata": {},
   "source": [
    "## Strings"
   ]
  },
  {
   "cell_type": "code",
   "execution_count": 1,
   "metadata": {},
   "outputs": [
    {
     "name": "stdout",
     "output_type": "stream",
     "text": [
      "0 j\n",
      "1 a\n",
      "2 m\n",
      "3 a\n",
      "4 l\n",
      "5  \n",
      "6 k\n",
      "7 h\n",
      "8 a\n",
      "9 n\n",
      "end\n"
     ]
    }
   ],
   "source": [
    "## Strings\n",
    "\n",
    "a = 'jamal khan'\n",
    "index = 0\n",
    "while index < len(a):\n",
    "    c = a[index]\n",
    "    print(index, c)\n",
    "    index +=1\n",
    "print('end')"
   ]
  },
  {
   "cell_type": "code",
   "execution_count": 2,
   "metadata": {},
   "outputs": [
    {
     "ename": "IndexError",
     "evalue": "string index out of range",
     "output_type": "error",
     "traceback": [
      "\u001b[1;31m---------------------------------------------------------------------------\u001b[0m",
      "\u001b[1;31mIndexError\u001b[0m                                Traceback (most recent call last)",
      "\u001b[1;32m<ipython-input-2-b47b7201e33e>\u001b[0m in \u001b[0;36m<module>\u001b[1;34m\u001b[0m\n\u001b[0;32m      1\u001b[0m \u001b[0mst\u001b[0m \u001b[1;33m=\u001b[0m \u001b[1;34m'abc'\u001b[0m\u001b[1;33m\u001b[0m\u001b[1;33m\u001b[0m\u001b[0m\n\u001b[1;32m----> 2\u001b[1;33m \u001b[0mprint\u001b[0m\u001b[1;33m(\u001b[0m\u001b[0mst\u001b[0m\u001b[1;33m[\u001b[0m\u001b[1;36m5\u001b[0m\u001b[1;33m]\u001b[0m\u001b[1;33m)\u001b[0m\u001b[1;33m\u001b[0m\u001b[1;33m\u001b[0m\u001b[0m\n\u001b[0m",
      "\u001b[1;31mIndexError\u001b[0m: string index out of range"
     ]
    }
   ],
   "source": [
    "st = 'abc'\n",
    "print(st[5])"
   ]
  },
  {
   "cell_type": "code",
   "execution_count": 3,
   "metadata": {},
   "outputs": [
    {
     "name": "stdout",
     "output_type": "stream",
     "text": [
      "5\n"
     ]
    }
   ],
   "source": [
    "fruit = 'apple'\n",
    "print(len(fruit))"
   ]
  },
  {
   "cell_type": "code",
   "execution_count": 16,
   "metadata": {},
   "outputs": [
    {
     "name": "stdout",
     "output_type": "stream",
     "text": [
      "0 j\n",
      "1 a\n",
      "2 m\n",
      "3 a\n",
      "4 l\n",
      "5  \n",
      "6 k\n",
      "7 h\n",
      "8 a\n",
      "9 n\n",
      "end\n",
      "j\n",
      "a\n",
      "m\n",
      "a\n",
      "l\n",
      "end\n"
     ]
    }
   ],
   "source": [
    "#iterating\n",
    "\n",
    "s='jamal'\n",
    "\n",
    "#while loop\n",
    "index=0\n",
    "while index < len(a):\n",
    "    c=a[index]\n",
    "    print(index,c)\n",
    "    index += 1\n",
    "print('end')\n",
    "\n",
    "#for loop\n",
    "for letter in s:\n",
    "    print(letter)\n",
    "print('end')"
   ]
  },
  {
   "cell_type": "code",
   "execution_count": 12,
   "metadata": {},
   "outputs": [
    {
     "name": "stdout",
     "output_type": "stream",
     "text": [
      "j\n",
      "a\n",
      "m\n",
      "a\n",
      "l\n",
      "count 2\n"
     ]
    }
   ],
   "source": [
    "#count chatacters\n",
    "s='jamal'\n",
    "count=0\n",
    "for i in s:\n",
    "    if i == 'a':\n",
    "        count +=1\n",
    "    print(i)\n",
    "print('count',count)\n",
    "    "
   ]
  },
  {
   "cell_type": "code",
   "execution_count": 17,
   "metadata": {},
   "outputs": [
    {
     "name": "stdout",
     "output_type": "stream",
     "text": [
      "ma\n",
      "jam\n",
      "al khan\n",
      "k\n",
      "kha\n",
      "jamal kha\n"
     ]
    }
   ],
   "source": [
    "#slicing strings\n",
    "s='jamal khan'\n",
    "print(s[2:4])\n",
    "print(s[:3])\n",
    "print(s[3:])\n",
    "print(s[6:7])\n",
    "print(s[6:-1])\n",
    "print(s[:-1])"
   ]
  },
  {
   "cell_type": "code",
   "execution_count": 19,
   "metadata": {},
   "outputs": [
    {
     "name": "stdout",
     "output_type": "stream",
     "text": [
      "hey there\n"
     ]
    }
   ],
   "source": [
    "a='hey'\n",
    "b= a + ' there'\n",
    "print(b)"
   ]
  },
  {
   "cell_type": "code",
   "execution_count": 20,
   "metadata": {},
   "outputs": [
    {
     "data": {
      "text/plain": [
       "False"
      ]
     },
     "execution_count": 20,
     "metadata": {},
     "output_type": "execute_result"
    }
   ],
   "source": [
    "#in operator with strings: return true if the string is found\n",
    "a='fruits'\n",
    "'n' in a"
   ]
  },
  {
   "cell_type": "code",
   "execution_count": 22,
   "metadata": {},
   "outputs": [
    {
     "data": {
      "text/plain": [
       "True"
      ]
     },
     "execution_count": 22,
     "metadata": {},
     "output_type": "execute_result"
    }
   ],
   "source": [
    "'r' in a"
   ]
  },
  {
   "cell_type": "code",
   "execution_count": 23,
   "metadata": {},
   "outputs": [
    {
     "data": {
      "text/plain": [
       "True"
      ]
     },
     "execution_count": 23,
     "metadata": {},
     "output_type": "execute_result"
    }
   ],
   "source": [
    "'it' in a"
   ]
  },
  {
   "cell_type": "code",
   "execution_count": 25,
   "metadata": {},
   "outputs": [
    {
     "name": "stdout",
     "output_type": "stream",
     "text": [
      "not found\n"
     ]
    }
   ],
   "source": [
    "if 'a' in a:\n",
    "    print('found')\n",
    "else:\n",
    "    print(\"not found\")"
   ]
  },
  {
   "cell_type": "code",
   "execution_count": 29,
   "metadata": {},
   "outputs": [
    {
     "name": "stdout",
     "output_type": "stream",
     "text": [
      "A\n",
      "b comes before a\n"
     ]
    }
   ],
   "source": [
    "a='banana'\n",
    "b=input()\n",
    "if b == a:\n",
    "    print(\"a = b\")\n",
    "elif b < a:\n",
    "    print(\"b comes before a\")\n",
    "elif b > a:\n",
    "    print(\"b comes after a\")\n"
   ]
  },
  {
   "cell_type": "code",
   "execution_count": 36,
   "metadata": {},
   "outputs": [
    {
     "name": "stdout",
     "output_type": "stream",
     "text": [
      "Hello Jamal\n",
      "hello jamal\n",
      "hi there\n"
     ]
    }
   ],
   "source": [
    "#Strings as objects\n",
    "'''\n",
    "Sring Library\n",
    "string.lower()\n",
    "dir(string)\n",
    "type(string)\n",
    "a.find(str)\n",
    "replace('a','b')\n",
    "a.lstrip()\n",
    "a.rstrip()\n",
    "a.strip()\n",
    "a.stratswith('j') ->prefixes\n",
    "\n",
    "\n",
    "'''\n",
    "\n",
    "greet = 'Hello Jamal'\n",
    "low = greet.lower()\n",
    "print(greet)\n",
    "print(low)\n",
    "print(\"Hi There\".lower())\n"
   ]
  },
  {
   "cell_type": "code",
   "execution_count": 39,
   "metadata": {},
   "outputs": [
    {
     "data": {
      "text/plain": [
       "str"
      ]
     },
     "execution_count": 39,
     "metadata": {},
     "output_type": "execute_result"
    }
   ],
   "source": [
    "type(greet)\n"
   ]
  },
  {
   "cell_type": "code",
   "execution_count": 40,
   "metadata": {},
   "outputs": [
    {
     "data": {
      "text/plain": [
       "['__add__',\n",
       " '__class__',\n",
       " '__contains__',\n",
       " '__delattr__',\n",
       " '__dir__',\n",
       " '__doc__',\n",
       " '__eq__',\n",
       " '__format__',\n",
       " '__ge__',\n",
       " '__getattribute__',\n",
       " '__getitem__',\n",
       " '__getnewargs__',\n",
       " '__gt__',\n",
       " '__hash__',\n",
       " '__init__',\n",
       " '__init_subclass__',\n",
       " '__iter__',\n",
       " '__le__',\n",
       " '__len__',\n",
       " '__lt__',\n",
       " '__mod__',\n",
       " '__mul__',\n",
       " '__ne__',\n",
       " '__new__',\n",
       " '__reduce__',\n",
       " '__reduce_ex__',\n",
       " '__repr__',\n",
       " '__rmod__',\n",
       " '__rmul__',\n",
       " '__setattr__',\n",
       " '__sizeof__',\n",
       " '__str__',\n",
       " '__subclasshook__',\n",
       " 'capitalize',\n",
       " 'casefold',\n",
       " 'center',\n",
       " 'count',\n",
       " 'encode',\n",
       " 'endswith',\n",
       " 'expandtabs',\n",
       " 'find',\n",
       " 'format',\n",
       " 'format_map',\n",
       " 'index',\n",
       " 'isalnum',\n",
       " 'isalpha',\n",
       " 'isascii',\n",
       " 'isdecimal',\n",
       " 'isdigit',\n",
       " 'isidentifier',\n",
       " 'islower',\n",
       " 'isnumeric',\n",
       " 'isprintable',\n",
       " 'isspace',\n",
       " 'istitle',\n",
       " 'isupper',\n",
       " 'join',\n",
       " 'ljust',\n",
       " 'lower',\n",
       " 'lstrip',\n",
       " 'maketrans',\n",
       " 'partition',\n",
       " 'replace',\n",
       " 'rfind',\n",
       " 'rindex',\n",
       " 'rjust',\n",
       " 'rpartition',\n",
       " 'rsplit',\n",
       " 'rstrip',\n",
       " 'split',\n",
       " 'splitlines',\n",
       " 'startswith',\n",
       " 'strip',\n",
       " 'swapcase',\n",
       " 'title',\n",
       " 'translate',\n",
       " 'upper',\n",
       " 'zfill']"
      ]
     },
     "execution_count": 40,
     "metadata": {},
     "output_type": "execute_result"
    }
   ],
   "source": [
    "dir(greet)"
   ]
  },
  {
   "cell_type": "code",
   "execution_count": 48,
   "metadata": {},
   "outputs": [
    {
     "name": "stdout",
     "output_type": "stream",
     "text": [
      "abcdefghijklmnopqrstuvwxyz\n",
      "Abcdefghijklmnopqrstuvwxyz\n",
      "ABCDEFGHIJKLMNOPQRSTUVWXYZ\n",
      "-1\n",
      "15\n",
      "abcdefghijKLMNxxPqrstuVWXYZ\n"
     ]
    }
   ],
   "source": [
    "a='abcdefghijKLMNOPqrstuVWXYZ'\n",
    "print(a.lower())\n",
    "print(a.capitalize())\n",
    "print(a.upper())\n",
    "print(a.find('p'))\n",
    "print(a.find('P'))\n",
    "print(a.replace('O','xx'))"
   ]
  },
  {
   "cell_type": "code",
   "execution_count": 49,
   "metadata": {},
   "outputs": [
    {
     "name": "stdout",
     "output_type": "stream",
     "text": [
      "jXmXl khXn\n"
     ]
    }
   ],
   "source": [
    "b = 'jamal khan'\n",
    "print(b.replace('a','X'))"
   ]
  },
  {
   "cell_type": "code",
   "execution_count": 54,
   "metadata": {},
   "outputs": [
    {
     "name": "stdout",
     "output_type": "stream",
     "text": [
      "     JAMAL       \n"
     ]
    }
   ],
   "source": [
    "c = \"     JAMAL       \"\n",
    "print(c)"
   ]
  },
  {
   "cell_type": "code",
   "execution_count": 57,
   "metadata": {},
   "outputs": [
    {
     "data": {
      "text/plain": [
       "'JAMAL       '"
      ]
     },
     "execution_count": 57,
     "metadata": {},
     "output_type": "execute_result"
    }
   ],
   "source": [
    "c.lstrip()"
   ]
  },
  {
   "cell_type": "code",
   "execution_count": 58,
   "metadata": {},
   "outputs": [
    {
     "data": {
      "text/plain": [
       "'     JAMAL'"
      ]
     },
     "execution_count": 58,
     "metadata": {},
     "output_type": "execute_result"
    }
   ],
   "source": [
    "c.rstrip()"
   ]
  },
  {
   "cell_type": "code",
   "execution_count": 59,
   "metadata": {},
   "outputs": [
    {
     "data": {
      "text/plain": [
       "'JAMAL'"
      ]
     },
     "execution_count": 59,
     "metadata": {},
     "output_type": "execute_result"
    }
   ],
   "source": [
    "c.strip()"
   ]
  },
  {
   "cell_type": "code",
   "execution_count": 61,
   "metadata": {},
   "outputs": [
    {
     "name": "stdout",
     "output_type": "stream",
     "text": [
      "False\n",
      "True\n"
     ]
    }
   ],
   "source": [
    "print(a.startswith('j'))\n",
    "print(a.startswith('a'))"
   ]
  },
  {
   "cell_type": "code",
   "execution_count": 68,
   "metadata": {},
   "outputs": [
    {
     "name": "stdout",
     "output_type": "stream",
     "text": [
      "18\n",
      "    0.8475\n",
      "0.8475\n",
      "0.8475\n"
     ]
    }
   ],
   "source": [
    "# parsing and extracting:\n",
    "'''6.5 Write code using find() and string slicing (see section 6.10) \n",
    "to extract the number at the end of the line below. \n",
    "Convert the extracted value to a floating point number and print it out.\n",
    "\n",
    "'''\n",
    "\n",
    "text = \"X-DSPAM-Confidence:    0.8475\"\n",
    "start = text.find(':')\n",
    "print(start)\n",
    "str2 = text[start+1:]\n",
    "print(str2)\n",
    "str3=str2.strip()\n",
    "str3\n",
    "num = float(str3)\n",
    "print(num)\n",
    "\n",
    "\n",
    "num2 = float(text[(text.find(':'))+1:].strip())\n",
    "print(num2)"
   ]
  },
  {
   "cell_type": "markdown",
   "metadata": {},
   "source": [
    "## Reading Files"
   ]
  },
  {
   "cell_type": "code",
   "execution_count": 71,
   "metadata": {},
   "outputs": [
    {
     "data": {
      "text/plain": [
       "'Hello \\n World'"
      ]
     },
     "execution_count": 71,
     "metadata": {},
     "output_type": "execute_result"
    }
   ],
   "source": [
    "## Reading Files\n",
    "'''Opening a file:\n",
    "open()\n",
    "handle = open(filename, mode)\n",
    "eg: handle = open('a.txt','r')\n",
    "mode is optional\n",
    "r=read\n",
    "w=write\n",
    "\n",
    "handle.read() - reads whole file and can be stored in a variable\n",
    "handle.close()\n",
    "'''\n",
    "\n",
    "stuff= \"Hello \\n World\"\n",
    "stuff\n"
   ]
  },
  {
   "cell_type": "code",
   "execution_count": 72,
   "metadata": {},
   "outputs": [
    {
     "name": "stdout",
     "output_type": "stream",
     "text": [
      "Hello \n",
      " World\n"
     ]
    }
   ],
   "source": [
    "print(stuff)"
   ]
  },
  {
   "cell_type": "code",
   "execution_count": 90,
   "metadata": {
    "scrolled": true
   },
   "outputs": [
    {
     "name": "stdout",
     "output_type": "stream",
     "text": [
      "<_io.TextIOWrapper name='C:/Users/mohammak/Desktop/code/python/python_code/py4e/code/abc.txt' mode='r' encoding='cp1252'> \n",
      "\n",
      "Okay, so now we know how to open a file.\n",
      "Now we have to learn how to read through the file, and it couldn't be easier, it really couldn't be easier.\n",
      "It's almost at the point where you probably would have guessed it if I didn't tell you. Well, so xfile.\n",
      "remember, is not the data, it's a way to get to the data. It's a sequence.\n",
      "Well, we already have a loop, the determinant loop, the for loop, and all you do is you put the handle here.\n",
      "Now this is not the same as putting a string there, the for loop is smart.\n",
      "This is some kind of a sequence of things.\n",
      "So a file handle to the for loop looks like a sequence of lines.\n",
      "It's a sequence of lines. So again, the for loop is going to run this code multiple times where the iteration variable, cheese in this case,\n",
      "is going to take on the successive lines.\n",
      "If this file has 10 lines, this loop is going to run 10 times.\n",
      "Cheese is going to be the first line, the second line, third line.\n",
      "So that's it, that's it. Isn't it pretty? No while loop, no end of file, no nothing.\n",
      "Run this as many times as necessary, one time through for each of the lines in the file.\n",
      "You take care all the stuff. And if you've done this in other programming languages, you'll be like, Python, you are my friend.\n",
      "Because it's simple.\n",
      "And you can look at it and go like, I know what it's doing. Whereas all the other programming languages have like total gibberish ways of doing this.\n",
      "And yes, you can figure it out and after you've used C or some other JavaScript language or whatever to read a file, Python is better.\n",
      "Because Python is elegant and straightforward, and it has to do with this for and in clause which I'm so in love with.\n",
      "So that just says treat a file handle as a sequence of lines, and allow us to iterate through it automatically using the for loop.\n",
      "\n",
      "\n",
      "lines in file: 20\n"
     ]
    }
   ],
   "source": [
    "f = open(\"C:/Users/mohammak/Desktop/code/python/python_code/py4e/code/abc.txt\")\n",
    "print(f,\"\\n\")\n",
    "count=0\n",
    "for line in f:\n",
    "    print(line.strip())\n",
    "    count +=1\n",
    "    \n",
    "print(\"\\n\\nlines in file:\",count)"
   ]
  },
  {
   "cell_type": "code",
   "execution_count": 95,
   "metadata": {},
   "outputs": [
    {
     "name": "stdout",
     "output_type": "stream",
     "text": [
      "Okay, so now we know how to open a file. \n",
      "Now we have to learn how to read through the file, and it couldn't be easier, it really couldn't be easier. \n",
      "It's almost at the point where you probably would have guessed it if I didn't tell you. Well, so xfile. \n",
      "remember, is not the data, it's a way to get to the data. It's a sequence. \n",
      "Well, we already have a loop, the determinant loop, the for loop, and all you do is you put the handle here. \n",
      "Now this is not the same as putting a string there, the for loop is smart. \n",
      "This is some kind of a sequence of things. \n",
      "So a file handle to the for loop looks like a sequence of lines. \n",
      "It's a sequence of lines. So again, the for loop is going to run this code multiple times where the iteration variable, cheese in this case, \n",
      "is going to take on the successive lines. \n",
      "If this file has 10 lines, this loop is going to run 10 times. \n",
      "Cheese is going to be the first line, the second line, third line. \n",
      "So that's it, that's it. Isn't it pretty? No while loop, no end of file, no nothing. \n",
      "Run this as many times as necessary, one time through for each of the lines in the file. \n",
      "You take care all the stuff. And if you've done this in other programming languages, you'll be like, Python, you are my friend. \n",
      "Because it's simple. \n",
      "And you can look at it and go like, I know what it's doing. Whereas all the other programming languages have like total gibberish ways of doing this. \n",
      "And yes, you can figure it out and after you've used C or some other JavaScript language or whatever to read a file, Python is better. \n",
      "Because Python is elegant and straightforward, and it has to do with this for and in clause which I'm so in love with. \n",
      "So that just says treat a file handle as a sequence of lines, and allow us to iterate through it automatically using the for loop.\n",
      "\n",
      "\n",
      "\n",
      "Length: 1809\n",
      "\n",
      "\n",
      "\n",
      "\n",
      "Okay, so now we know\n"
     ]
    }
   ],
   "source": [
    "f = open(\"C:/Users/mohammak/Desktop/code/python/python_code/py4e/code/abc.txt\")\n",
    "inp = f.read()\n",
    "print(inp)\n",
    "print(\"\\n\\n\\nLength:\",len(inp))\n",
    "print(\"\\n\\n\\n\")\n",
    "print(inp[:20])"
   ]
  },
  {
   "cell_type": "markdown",
   "metadata": {},
   "source": [
    "## Lists"
   ]
  },
  {
   "cell_type": "code",
   "execution_count": 2,
   "metadata": {},
   "outputs": [
    {
     "name": "stdout",
     "output_type": "stream",
     "text": [
      "[1, 2, [2, 3], 3]\n",
      "4\n"
     ]
    }
   ],
   "source": [
    "'''\n",
    "'append',\n",
    "'clear',\n",
    "'copy',\n",
    "'count',\n",
    "'extend',\n",
    "'index',\n",
    "'insert',\n",
    "'pop',\n",
    "'remove',\n",
    "'reverse',\n",
    "'sort'\n",
    "\n",
    "Lists are mutable\n",
    "\n",
    "'''\n",
    "\n",
    "l1= [1,2,[2,3],3]\n",
    "print(l1)\n",
    "print(len(l1))"
   ]
  },
  {
   "cell_type": "code",
   "execution_count": 3,
   "metadata": {},
   "outputs": [
    {
     "name": "stdout",
     "output_type": "stream",
     "text": [
      "range(0, 4)\n"
     ]
    }
   ],
   "source": [
    "print(range(4))"
   ]
  },
  {
   "cell_type": "code",
   "execution_count": 4,
   "metadata": {},
   "outputs": [
    {
     "name": "stdout",
     "output_type": "stream",
     "text": [
      "1 1\n",
      "2 2\n",
      "3 [2, 3]\n",
      "4 3\n"
     ]
    }
   ],
   "source": [
    "index = 0\n",
    "for i in l1:\n",
    "    index +=1\n",
    "    print(index,i)\n",
    "    "
   ]
  },
  {
   "cell_type": "code",
   "execution_count": 5,
   "metadata": {},
   "outputs": [
    {
     "name": "stdout",
     "output_type": "stream",
     "text": [
      "1\n",
      "2\n",
      "[2, 3]\n",
      "3\n"
     ]
    }
   ],
   "source": [
    "for i in range(len(l1)):\n",
    "    x = l1[i]\n",
    "    print(x)"
   ]
  },
  {
   "cell_type": "code",
   "execution_count": 6,
   "metadata": {},
   "outputs": [
    {
     "name": "stdout",
     "output_type": "stream",
     "text": [
      "1\n",
      "2\n",
      "[2, 3]\n",
      "3\n"
     ]
    }
   ],
   "source": [
    "for i in l1:\n",
    "    print(i)"
   ]
  },
  {
   "cell_type": "code",
   "execution_count": 7,
   "metadata": {},
   "outputs": [
    {
     "name": "stdout",
     "output_type": "stream",
     "text": [
      "[1, 2, 3, 4, 5, 6]\n",
      "[3, 4]\n"
     ]
    }
   ],
   "source": [
    "a=[1,2,3]\n",
    "b=[4,5,6]\n",
    "c=a+b\n",
    "print(c)\n",
    "\n",
    "print(c[2:4])"
   ]
  },
  {
   "cell_type": "code",
   "execution_count": 8,
   "metadata": {},
   "outputs": [
    {
     "name": "stdout",
     "output_type": "stream",
     "text": [
      "[1]\n",
      "[1, 2]\n",
      "[1, 2, 3]\n",
      "[1, 2, 3, 4]\n",
      "[1, 2, 3, 4, 5]\n"
     ]
    }
   ],
   "source": [
    "a = list()\n",
    "a.append(1)\n",
    "print(a)\n",
    "a.append(2)\n",
    "print(a)\n",
    "a.append(3)\n",
    "print(a)\n",
    "a.append(4)\n",
    "print(a)\n",
    "a.append(5)\n",
    "print(a)\n"
   ]
  },
  {
   "cell_type": "code",
   "execution_count": 9,
   "metadata": {},
   "outputs": [
    {
     "data": {
      "text/plain": [
       "True"
      ]
     },
     "execution_count": 9,
     "metadata": {},
     "output_type": "execute_result"
    }
   ],
   "source": [
    "5 in a"
   ]
  },
  {
   "cell_type": "code",
   "execution_count": 10,
   "metadata": {},
   "outputs": [
    {
     "data": {
      "text/plain": [
       "False"
      ]
     },
     "execution_count": 10,
     "metadata": {},
     "output_type": "execute_result"
    }
   ],
   "source": [
    "21 in a"
   ]
  },
  {
   "cell_type": "code",
   "execution_count": 11,
   "metadata": {},
   "outputs": [
    {
     "data": {
      "text/plain": [
       "5"
      ]
     },
     "execution_count": 11,
     "metadata": {},
     "output_type": "execute_result"
    }
   ],
   "source": [
    "a.pop()"
   ]
  },
  {
   "cell_type": "code",
   "execution_count": 12,
   "metadata": {},
   "outputs": [
    {
     "name": "stdout",
     "output_type": "stream",
     "text": [
      "[1, 2, 3, 4]\n"
     ]
    }
   ],
   "source": [
    "print(a)"
   ]
  },
  {
   "cell_type": "code",
   "execution_count": 13,
   "metadata": {},
   "outputs": [
    {
     "name": "stdout",
     "output_type": "stream",
     "text": [
      "[1, 2, 3, 4, 9, 4, 9, 8, 7, 4, 2, 9, 6, 5, 2, 9, 3, 8, 4, 2, 7, 4]\n"
     ]
    }
   ],
   "source": [
    "b = [9,4,9,8,7,4,2,9,6,5,2,9,3,8,4,2,7,4]\n",
    "a=a+b\n",
    "print(a)"
   ]
  },
  {
   "cell_type": "code",
   "execution_count": 14,
   "metadata": {},
   "outputs": [
    {
     "name": "stdout",
     "output_type": "stream",
     "text": [
      "[1, 2, 2, 2, 2, 3, 3, 4, 4, 4, 4, 4, 5, 6, 7, 7, 8, 8, 9, 9, 9, 9]\n"
     ]
    }
   ],
   "source": [
    "#sort works with  strings as well\n",
    "a.sort()\n",
    "print(a)"
   ]
  },
  {
   "cell_type": "code",
   "execution_count": 15,
   "metadata": {},
   "outputs": [
    {
     "name": "stdout",
     "output_type": "stream",
     "text": [
      "22\n",
      "9\n",
      "1\n",
      "112\n",
      "5.090909090909091\n"
     ]
    }
   ],
   "source": [
    "print(len(a))\n",
    "print(max(a))\n",
    "print(min(a))\n",
    "print(sum(a))\n",
    "print(sum(a)/len(a))\n",
    "\n"
   ]
  },
  {
   "cell_type": "code",
   "execution_count": 16,
   "metadata": {},
   "outputs": [
    {
     "name": "stdout",
     "output_type": "stream",
     "text": [
      "['with', 'three', 'words']\n"
     ]
    }
   ],
   "source": [
    "#8.3 - Lists and Strings\n",
    "#split functions: splits string and returns list\n",
    "#Default delimiter = ' 'space\n",
    "#you can specify delimiters\n",
    "abc = 'with three words'\n",
    "stuff = abc.split()\n",
    "print(stuff)"
   ]
  },
  {
   "cell_type": "code",
   "execution_count": 17,
   "metadata": {},
   "outputs": [
    {
     "name": "stdout",
     "output_type": "stream",
     "text": [
      "with\n",
      "three\n",
      "words\n"
     ]
    }
   ],
   "source": [
    "for w in stuff:\n",
    "    print(w)"
   ]
  },
  {
   "cell_type": "code",
   "execution_count": 18,
   "metadata": {},
   "outputs": [],
   "source": [
    "friends = [ 'Joseph', 'Glenn', 'Sally' ]\n"
   ]
  },
  {
   "cell_type": "code",
   "execution_count": 19,
   "metadata": {},
   "outputs": [
    {
     "ename": "TypeError",
     "evalue": "'str' object does not support item assignment",
     "output_type": "error",
     "traceback": [
      "\u001b[1;31m---------------------------------------------------------------------------\u001b[0m",
      "\u001b[1;31mTypeError\u001b[0m                                 Traceback (most recent call last)",
      "\u001b[1;32m<ipython-input-19-947d10fd42e9>\u001b[0m in \u001b[0;36m<module>\u001b[1;34m\u001b[0m\n\u001b[0;32m      1\u001b[0m \u001b[0mfruit\u001b[0m \u001b[1;33m=\u001b[0m \u001b[1;34m'Banana'\u001b[0m\u001b[1;33m\u001b[0m\u001b[1;33m\u001b[0m\u001b[0m\n\u001b[1;32m----> 2\u001b[1;33m \u001b[0mfruit\u001b[0m\u001b[1;33m[\u001b[0m\u001b[1;36m0\u001b[0m\u001b[1;33m]\u001b[0m \u001b[1;33m=\u001b[0m \u001b[1;34m'b'\u001b[0m\u001b[1;33m\u001b[0m\u001b[1;33m\u001b[0m\u001b[0m\n\u001b[0m\u001b[0;32m      3\u001b[0m \u001b[0mprint\u001b[0m\u001b[1;33m(\u001b[0m\u001b[0mfruit\u001b[0m\u001b[1;33m)\u001b[0m\u001b[1;33m\u001b[0m\u001b[1;33m\u001b[0m\u001b[0m\n",
      "\u001b[1;31mTypeError\u001b[0m: 'str' object does not support item assignment"
     ]
    }
   ],
   "source": [
    "fruit = 'Banana'\n",
    "fruit[0] = 'b'\n",
    "print(fruit)"
   ]
  },
  {
   "cell_type": "code",
   "execution_count": 20,
   "metadata": {},
   "outputs": [],
   "source": [
    "x = range(5)"
   ]
  },
  {
   "cell_type": "code",
   "execution_count": 21,
   "metadata": {},
   "outputs": [
    {
     "name": "stdout",
     "output_type": "stream",
     "text": [
      "range(0, 5)\n"
     ]
    }
   ],
   "source": [
    "print(x)"
   ]
  },
  {
   "cell_type": "code",
   "execution_count": 22,
   "metadata": {},
   "outputs": [
    {
     "name": "stdout",
     "output_type": "stream",
     "text": [
      "6\n",
      "[1, 2, 3, 4, 5, 6]\n"
     ]
    }
   ],
   "source": [
    "a = [1, 2, 3]\n",
    "b = [4, 5, 6]\n",
    "c = a + b\n",
    "print(len(c))\n",
    "print(c)"
   ]
  },
  {
   "cell_type": "code",
   "execution_count": 23,
   "metadata": {},
   "outputs": [],
   "source": [
    "t = [9, 41, 12, 3, 74, 15]"
   ]
  },
  {
   "cell_type": "code",
   "execution_count": 24,
   "metadata": {},
   "outputs": [
    {
     "data": {
      "text/plain": [
       "[12, 3]"
      ]
     },
     "execution_count": 24,
     "metadata": {},
     "output_type": "execute_result"
    }
   ],
   "source": [
    "t[2:4]"
   ]
  },
  {
   "cell_type": "code",
   "execution_count": 25,
   "metadata": {},
   "outputs": [
    {
     "name": "stdout",
     "output_type": "stream",
     "text": [
      "Glenn\n"
     ]
    }
   ],
   "source": [
    "friends = [ 'Joseph', 'Glenn', 'Sally' ]\n",
    "friends.sort()\n",
    "print(friends[0])"
   ]
  },
  {
   "cell_type": "code",
   "execution_count": 26,
   "metadata": {},
   "outputs": [],
   "source": [
    "lst = list()"
   ]
  },
  {
   "cell_type": "code",
   "execution_count": 27,
   "metadata": {},
   "outputs": [
    {
     "data": {
      "text/plain": [
       "['__add__',\n",
       " '__class__',\n",
       " '__contains__',\n",
       " '__delattr__',\n",
       " '__delitem__',\n",
       " '__dir__',\n",
       " '__doc__',\n",
       " '__eq__',\n",
       " '__format__',\n",
       " '__ge__',\n",
       " '__getattribute__',\n",
       " '__getitem__',\n",
       " '__gt__',\n",
       " '__hash__',\n",
       " '__iadd__',\n",
       " '__imul__',\n",
       " '__init__',\n",
       " '__init_subclass__',\n",
       " '__iter__',\n",
       " '__le__',\n",
       " '__len__',\n",
       " '__lt__',\n",
       " '__mul__',\n",
       " '__ne__',\n",
       " '__new__',\n",
       " '__reduce__',\n",
       " '__reduce_ex__',\n",
       " '__repr__',\n",
       " '__reversed__',\n",
       " '__rmul__',\n",
       " '__setattr__',\n",
       " '__setitem__',\n",
       " '__sizeof__',\n",
       " '__str__',\n",
       " '__subclasshook__',\n",
       " 'append',\n",
       " 'clear',\n",
       " 'copy',\n",
       " 'count',\n",
       " 'extend',\n",
       " 'index',\n",
       " 'insert',\n",
       " 'pop',\n",
       " 'remove',\n",
       " 'reverse',\n",
       " 'sort']"
      ]
     },
     "execution_count": 27,
     "metadata": {},
     "output_type": "execute_result"
    }
   ],
   "source": [
    "dir(lst)"
   ]
  },
  {
   "cell_type": "code",
   "execution_count": 28,
   "metadata": {},
   "outputs": [],
   "source": [
    "str1 = 'From stephen.marquard@uct.ac.za Sat Jan  5 09:14:16 2008'"
   ]
  },
  {
   "cell_type": "code",
   "execution_count": 29,
   "metadata": {},
   "outputs": [
    {
     "name": "stdout",
     "output_type": "stream",
     "text": [
      "0\n"
     ]
    }
   ],
   "source": [
    "print(str1.find('From '))"
   ]
  },
  {
   "cell_type": "code",
   "execution_count": 30,
   "metadata": {},
   "outputs": [
    {
     "data": {
      "text/plain": [
       "['__add__',\n",
       " '__class__',\n",
       " '__contains__',\n",
       " '__delattr__',\n",
       " '__dir__',\n",
       " '__doc__',\n",
       " '__eq__',\n",
       " '__format__',\n",
       " '__ge__',\n",
       " '__getattribute__',\n",
       " '__getitem__',\n",
       " '__getnewargs__',\n",
       " '__gt__',\n",
       " '__hash__',\n",
       " '__init__',\n",
       " '__init_subclass__',\n",
       " '__iter__',\n",
       " '__le__',\n",
       " '__len__',\n",
       " '__lt__',\n",
       " '__mod__',\n",
       " '__mul__',\n",
       " '__ne__',\n",
       " '__new__',\n",
       " '__reduce__',\n",
       " '__reduce_ex__',\n",
       " '__repr__',\n",
       " '__rmod__',\n",
       " '__rmul__',\n",
       " '__setattr__',\n",
       " '__sizeof__',\n",
       " '__str__',\n",
       " '__subclasshook__',\n",
       " 'capitalize',\n",
       " 'casefold',\n",
       " 'center',\n",
       " 'count',\n",
       " 'encode',\n",
       " 'endswith',\n",
       " 'expandtabs',\n",
       " 'find',\n",
       " 'format',\n",
       " 'format_map',\n",
       " 'index',\n",
       " 'isalnum',\n",
       " 'isalpha',\n",
       " 'isascii',\n",
       " 'isdecimal',\n",
       " 'isdigit',\n",
       " 'isidentifier',\n",
       " 'islower',\n",
       " 'isnumeric',\n",
       " 'isprintable',\n",
       " 'isspace',\n",
       " 'istitle',\n",
       " 'isupper',\n",
       " 'join',\n",
       " 'ljust',\n",
       " 'lower',\n",
       " 'lstrip',\n",
       " 'maketrans',\n",
       " 'partition',\n",
       " 'replace',\n",
       " 'rfind',\n",
       " 'rindex',\n",
       " 'rjust',\n",
       " 'rpartition',\n",
       " 'rsplit',\n",
       " 'rstrip',\n",
       " 'split',\n",
       " 'splitlines',\n",
       " 'startswith',\n",
       " 'strip',\n",
       " 'swapcase',\n",
       " 'title',\n",
       " 'translate',\n",
       " 'upper',\n",
       " 'zfill']"
      ]
     },
     "execution_count": 30,
     "metadata": {},
     "output_type": "execute_result"
    }
   ],
   "source": [
    "dir(str1)"
   ]
  },
  {
   "cell_type": "markdown",
   "metadata": {},
   "source": [
    "# Dictionaries"
   ]
  },
  {
   "cell_type": "code",
   "execution_count": 31,
   "metadata": {},
   "outputs": [],
   "source": [
    "'''\n",
    "mutable\n",
    "\n",
    "'clear',\n",
    " 'copy',\n",
    " 'fromkeys',\n",
    " 'get',\n",
    " 'items',\n",
    " 'keys',\n",
    " 'pop',\n",
    " 'popitem',\n",
    " 'setdefault',\n",
    " 'update',\n",
    " 'values'\n",
    "\n",
    "'''\n",
    "\n",
    "purse = dict()"
   ]
  },
  {
   "cell_type": "code",
   "execution_count": 44,
   "metadata": {},
   "outputs": [],
   "source": [
    "purse['a']=12\n",
    "purse['b']=10\n",
    "purse['c']=5\n",
    "purse['d']=4\n",
    "purse['e']=40"
   ]
  },
  {
   "cell_type": "code",
   "execution_count": 45,
   "metadata": {},
   "outputs": [
    {
     "name": "stdout",
     "output_type": "stream",
     "text": [
      "12\n"
     ]
    }
   ],
   "source": [
    "print(purse['a'])"
   ]
  },
  {
   "cell_type": "code",
   "execution_count": 46,
   "metadata": {},
   "outputs": [
    {
     "name": "stdout",
     "output_type": "stream",
     "text": [
      "17\n"
     ]
    }
   ],
   "source": [
    "purse['a']=purse['a']+5\n",
    "print(purse['a'])"
   ]
  },
  {
   "cell_type": "code",
   "execution_count": 47,
   "metadata": {},
   "outputs": [
    {
     "name": "stdout",
     "output_type": "stream",
     "text": [
      "{'a': 17, 'b': 10, 'c': 5, 'd': 4, 'e': 40}\n"
     ]
    }
   ],
   "source": [
    "print(purse)"
   ]
  },
  {
   "cell_type": "code",
   "execution_count": 49,
   "metadata": {},
   "outputs": [
    {
     "data": {
      "text/plain": [
       "['__class__',\n",
       " '__contains__',\n",
       " '__delattr__',\n",
       " '__delitem__',\n",
       " '__dir__',\n",
       " '__doc__',\n",
       " '__eq__',\n",
       " '__format__',\n",
       " '__ge__',\n",
       " '__getattribute__',\n",
       " '__getitem__',\n",
       " '__gt__',\n",
       " '__hash__',\n",
       " '__init__',\n",
       " '__init_subclass__',\n",
       " '__iter__',\n",
       " '__le__',\n",
       " '__len__',\n",
       " '__lt__',\n",
       " '__ne__',\n",
       " '__new__',\n",
       " '__reduce__',\n",
       " '__reduce_ex__',\n",
       " '__repr__',\n",
       " '__setattr__',\n",
       " '__setitem__',\n",
       " '__sizeof__',\n",
       " '__str__',\n",
       " '__subclasshook__',\n",
       " 'clear',\n",
       " 'copy',\n",
       " 'fromkeys',\n",
       " 'get',\n",
       " 'items',\n",
       " 'keys',\n",
       " 'pop',\n",
       " 'popitem',\n",
       " 'setdefault',\n",
       " 'update',\n",
       " 'values']"
      ]
     },
     "execution_count": 49,
     "metadata": {},
     "output_type": "execute_result"
    }
   ],
   "source": [
    "dir(purse)"
   ]
  },
  {
   "cell_type": "code",
   "execution_count": 61,
   "metadata": {},
   "outputs": [
    {
     "name": "stdout",
     "output_type": "stream",
     "text": [
      "dict_keys(['a', 'b', 'c', 'd', 'e'])\n",
      "dict_values([17, 10, 5, 4, 40])\n"
     ]
    }
   ],
   "source": [
    "print(purse.keys())\n",
    "print(purse.values())\n",
    "purse.clear()"
   ]
  },
  {
   "cell_type": "code",
   "execution_count": 62,
   "metadata": {},
   "outputs": [
    {
     "name": "stdout",
     "output_type": "stream",
     "text": [
      "{}\n"
     ]
    }
   ],
   "source": [
    "print(purse)"
   ]
  },
  {
   "cell_type": "code",
   "execution_count": 60,
   "metadata": {},
   "outputs": [],
   "source": [
    "purse={'a': 17, 'b': 10, 'c': 5, 'd': 4, 'e': 40}"
   ]
  },
  {
   "cell_type": "code",
   "execution_count": 64,
   "metadata": {},
   "outputs": [
    {
     "name": "stdout",
     "output_type": "stream",
     "text": [
      "{'jamal': 2, 'akrati': 5, 'abhishek': 5, 'aditya': 3}\n"
     ]
    }
   ],
   "source": [
    "d = {}\n",
    "names = ['jamal', 'akrati', 'abhishek', 'aditya','aditya','aditya','akrati', 'abhishek', 'akrati', 'abhishek', 'akrati', 'abhishek', 'akrati', 'abhishek', 'jamal']\n",
    "for name in names:\n",
    "    if name not in d:\n",
    "        d[name] = 1\n",
    "    else:\n",
    "        d[name] =d[name]+1\n",
    "        \n",
    "print(d)\n"
   ]
  },
  {
   "cell_type": "code",
   "execution_count": 66,
   "metadata": {},
   "outputs": [
    {
     "name": "stdout",
     "output_type": "stream",
     "text": [
      "{'jamal': 2, 'akrati': 5, 'abhishek': 5, 'aditya': 3}\n"
     ]
    }
   ],
   "source": [
    "d1 = {}\n",
    "names = ['jamal', 'akrati', 'abhishek', 'aditya','aditya','aditya','akrati', 'abhishek', 'akrati', 'abhishek', 'akrati', 'abhishek', 'akrati', 'abhishek', 'jamal']\n",
    "for name in names:\n",
    "    d1[name] = d1.get(name,0)+1\n",
    "    \n",
    "print(d1)\n"
   ]
  },
  {
   "cell_type": "code",
   "execution_count": 71,
   "metadata": {},
   "outputs": [
    {
     "name": "stdout",
     "output_type": "stream",
     "text": [
      "chuck 100\n",
      "syl 300\n",
      "norris 400\n",
      "['chuck', 'syl', 'norris']\n",
      "dict_keys(['chuck', 'syl', 'norris'])\n",
      "dict_values([100, 300, 400])\n",
      "dict_items([('chuck', 100), ('syl', 300), ('norris', 400)])\n"
     ]
    }
   ],
   "source": [
    "'''\n",
    "for loop in dictionaries\n",
    "\n",
    "'''\n",
    "d2 = {'chuck': 100, 'syl':300,'norris':400}\n",
    "for key in d2:\n",
    "    print(key, d2[key])\n",
    "    \n",
    "print(list(d2))\n",
    "print(d2.keys())\n",
    "print(d2.values())\n",
    "print(d2.items())"
   ]
  },
  {
   "cell_type": "code",
   "execution_count": 72,
   "metadata": {},
   "outputs": [
    {
     "name": "stdout",
     "output_type": "stream",
     "text": [
      "chuck 100\n",
      "syl 300\n",
      "norris 400\n"
     ]
    }
   ],
   "source": [
    "'''\n",
    "two iteration variables in python\n",
    "for k,v in d2.items():\n",
    "'''\n",
    "\n",
    "for k,v in d2.items():\n",
    "    print(k,v)"
   ]
  },
  {
   "cell_type": "code",
   "execution_count": 73,
   "metadata": {},
   "outputs": [
    {
     "ename": "KeyError",
     "evalue": "'candy'",
     "output_type": "error",
     "traceback": [
      "\u001b[1;31m---------------------------------------------------------------------------\u001b[0m",
      "\u001b[1;31mKeyError\u001b[0m                                  Traceback (most recent call last)",
      "\u001b[1;32m<ipython-input-73-928189c0281a>\u001b[0m in \u001b[0;36m<module>\u001b[1;34m\u001b[0m\n\u001b[0;32m      1\u001b[0m \u001b[0mstuff\u001b[0m \u001b[1;33m=\u001b[0m \u001b[0mdict\u001b[0m\u001b[1;33m(\u001b[0m\u001b[1;33m)\u001b[0m\u001b[1;33m\u001b[0m\u001b[1;33m\u001b[0m\u001b[0m\n\u001b[1;32m----> 2\u001b[1;33m \u001b[0mprint\u001b[0m\u001b[1;33m(\u001b[0m\u001b[0mstuff\u001b[0m\u001b[1;33m[\u001b[0m\u001b[1;34m'candy'\u001b[0m\u001b[1;33m]\u001b[0m\u001b[1;33m)\u001b[0m\u001b[1;33m\u001b[0m\u001b[1;33m\u001b[0m\u001b[0m\n\u001b[0m",
      "\u001b[1;31mKeyError\u001b[0m: 'candy'"
     ]
    }
   ],
   "source": [
    "stuff = dict()\n",
    "print(stuff['candy'])"
   ]
  },
  {
   "cell_type": "code",
   "execution_count": 74,
   "metadata": {},
   "outputs": [
    {
     "name": "stdout",
     "output_type": "stream",
     "text": [
      "-1\n"
     ]
    }
   ],
   "source": [
    "stuff = dict()\n",
    "print(stuff.get('candy',-1))"
   ]
  },
  {
   "cell_type": "markdown",
   "metadata": {},
   "source": [
    "# Tuples\n"
   ]
  },
  {
   "cell_type": "code",
   "execution_count": 81,
   "metadata": {},
   "outputs": [
    {
     "name": "stdout",
     "output_type": "stream",
     "text": [
      "()\n"
     ]
    }
   ],
   "source": [
    "'''\n",
    "unmodifiable version of list\n",
    "more efficient\n",
    "index starts at 0\n",
    "immutable\n",
    "cant sort\n",
    "cant append\n",
    "\n",
    "( )\n",
    "functions:\n",
    "count\n",
    "index\n",
    "\n",
    "we can put a tuple on left hand side of assignment operator\n",
    "\n",
    "\n",
    "\n",
    "\n",
    "\n",
    "'''\n",
    "\n",
    "t = ()\n",
    "dir(t)\n",
    "print(t)"
   ]
  },
  {
   "cell_type": "code",
   "execution_count": 83,
   "metadata": {},
   "outputs": [],
   "source": [
    "(a,b) = (4,6)"
   ]
  },
  {
   "cell_type": "code",
   "execution_count": 84,
   "metadata": {},
   "outputs": [
    {
     "name": "stdout",
     "output_type": "stream",
     "text": [
      "4\n"
     ]
    }
   ],
   "source": [
    "print(a)"
   ]
  },
  {
   "cell_type": "code",
   "execution_count": 86,
   "metadata": {},
   "outputs": [
    {
     "name": "stdout",
     "output_type": "stream",
     "text": [
      "dict_items([('jamal', 2), ('akrati', 5), ('abhishek', 5), ('aditya', 3)])\n"
     ]
    }
   ],
   "source": [
    "print(d.items())"
   ]
  },
  {
   "cell_type": "code",
   "execution_count": 90,
   "metadata": {},
   "outputs": [
    {
     "name": "stdout",
     "output_type": "stream",
     "text": [
      "True\n",
      "True\n",
      "False\n",
      "False\n"
     ]
    }
   ],
   "source": [
    "'''\n",
    "tuples are comparable\n",
    "(0,1,2) < (5,1,2)\n",
    "'''\n",
    "print((0,1,2) < (5,1,2))\n",
    "print(('Jones', 'Sally') < ('Jones', 'Sam'))\n",
    "print(('Jones', 'Sally') < ('Jones', 'Adams'))\n",
    "print(('Jones', 'Sally') < ('Adams', 'Sam'))"
   ]
  },
  {
   "cell_type": "code",
   "execution_count": 91,
   "metadata": {},
   "outputs": [
    {
     "name": "stdout",
     "output_type": "stream",
     "text": [
      "[('a', 10), ('b', 20), ('c', 30), ('d', 40)]\n"
     ]
    }
   ],
   "source": [
    "'''\n",
    "tuples can be sorted\n",
    "sorted(d.items())\n",
    "'''\n",
    "d = {'a':10,'d':40,'c':30,'b':20}\n",
    "t = sorted(d.items())\n",
    "print(t)"
   ]
  },
  {
   "cell_type": "code",
   "execution_count": 92,
   "metadata": {},
   "outputs": [
    {
     "name": "stdout",
     "output_type": "stream",
     "text": [
      "a 10\n",
      "b 20\n",
      "c 30\n",
      "d 40\n"
     ]
    }
   ],
   "source": [
    "for k,v in t:\n",
    "    print(k,v)"
   ]
  },
  {
   "cell_type": "code",
   "execution_count": 93,
   "metadata": {},
   "outputs": [
    {
     "name": "stdout",
     "output_type": "stream",
     "text": [
      "a 10\n",
      "b 20\n",
      "c 30\n",
      "d 40\n"
     ]
    }
   ],
   "source": [
    "for k,v in sorted(d.items()):\n",
    "    print(k,v)"
   ]
  },
  {
   "cell_type": "code",
   "execution_count": null,
   "metadata": {},
   "outputs": [],
   "source": [
    "'''\n",
    "how do we sort by value:tuples\n",
    "'''\n",
    "\n"
   ]
  }
 ],
 "metadata": {
  "kernelspec": {
   "display_name": "Python 3",
   "language": "python",
   "name": "python3"
  },
  "language_info": {
   "codemirror_mode": {
    "name": "ipython",
    "version": 3
   },
   "file_extension": ".py",
   "mimetype": "text/x-python",
   "name": "python",
   "nbconvert_exporter": "python",
   "pygments_lexer": "ipython3",
   "version": "3.7.1"
  }
 },
 "nbformat": 4,
 "nbformat_minor": 2
}
